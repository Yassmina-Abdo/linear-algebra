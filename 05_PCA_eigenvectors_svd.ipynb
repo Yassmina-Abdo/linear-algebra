{
  "cells": [
    {
      "cell_type": "markdown",
      "metadata": {
        "id": "view-in-github",
        "colab_type": "text"
      },
      "source": [
        "<a href=\"https://colab.research.google.com/github/Yassmina-Abdo/linear-algebra/blob/main/05_PCA_eigenvectors_svd.ipynb\" target=\"_parent\"><img src=\"https://colab.research.google.com/assets/colab-badge.svg\" alt=\"Open In Colab\"/></a>"
      ]
    },
    {
      "cell_type": "markdown",
      "metadata": {
        "id": "G1nUhK6KGZpo"
      },
      "source": [
        "# Lab 5: PCA Using Eigenvectors and Singular Value Decomposition"
      ]
    },
    {
      "cell_type": "markdown",
      "metadata": {
        "id": "p5gnPBfsGZpv"
      },
      "source": [
        "# First: you should run this cell"
      ]
    },
    {
      "cell_type": "code",
      "execution_count": null,
      "metadata": {
        "id": "A1_zlbARGZpw"
      },
      "outputs": [],
      "source": [
        "# Make all numpy available via shorter 'np' prefix\n",
        "import numpy as np"
      ]
    },
    {
      "cell_type": "markdown",
      "metadata": {
        "id": "NC4BwrDOGZpz"
      },
      "source": [
        "# Question 1 : PCA Using Eigenvectors\n",
        "\n",
        "#### Create a matrix contains the following data\n",
        "\n",
        "| | Feature #1 | Feature #2 | Feature #3 | Feature #4 |\n",
        "| --- | --- | --- | --- | --- |\n",
        "| **Sample #1** | 1 | 2 | 3 | 4 |\n",
        "| **Sample #2** | 5 | 5 | 6 | 7 |\n",
        "| **Sample #3**| 1 | 4 | 2 | 3 |\n",
        "| **Sample #4**| 5 | 3 | 2 | 1 |\n",
        "| **Sample #5**| 8 | 1 | 2 | 2 |"
      ]
    },
    {
      "cell_type": "code",
      "execution_count": null,
      "metadata": {
        "id": "2yziJSt2GZp0",
        "outputId": "8417eeb0-3f8e-489b-ab40-1f97de2d76fa"
      },
      "outputs": [
        {
          "name": "stdout",
          "output_type": "stream",
          "text": [
            "M = \n",
            "[[1 2 3 4]\n",
            " [5 5 6 7]\n",
            " [1 4 2 3]\n",
            " [5 3 2 1]\n",
            " [8 1 2 2]]\n",
            "\n"
          ]
        }
      ],
      "source": [
        "M = np.array([[1,2,3,4],\n",
        "              [5,5,6,7],\n",
        "              [1,4,2,3],\n",
        "              [5,3,2,1],\n",
        "              [8,1,2,2]])\n",
        "print('M = \\n{}\\n'.format(M))"
      ]
    },
    {
      "cell_type": "markdown",
      "metadata": {
        "id": "eHY_MxMlGZp2"
      },
      "source": [
        "### Step 1: Standardize the dataset.\n",
        "- Calculate data mean for each feature.\n",
        "- Calculate data standard deviation for each feature.\n",
        "\n",
        "| | Feature #1 | Feature #2 | Feature #3 | Feature #4 |\n",
        "| --- | --- | --- | --- | --- |\n",
        "| **$\\mu$** | 4 | 3 | 3 | 3.4 |\n",
        "| **$\\sigma$**| 3 | 1.58114 | 1.73205 | 2.30217 |\n",
        "\n",
        "\n",
        "- Standardize the data.\n",
        "\n",
        "| | Feature #1 | Feature #2 | Feature #3 | Feature #4 |\n",
        "| --- | --- | --- | --- | --- |\n",
        "| **Sample #1** | -1.         | -0.63245553 |  0.         |  0.26062335 |\n",
        "| **Sample #2** |  0.33333333 | 1.26491106 |  1.73205081 |  1.56374007 |\n",
        "| **Sample #3** | -1.         | 0.63245553 | -0.57735027 | -0.1737489  |\n",
        "| **Sample #4** |  0.33333333 | 0.         | -0.57735027 | -1.04249338 |\n",
        "| **Sample #5** |  1.33333333 | -1.26491106 | -0.57735027 | -0.60812114 |\n",
        "\n",
        "\n"
      ]
    },
    {
      "cell_type": "code",
      "execution_count": null,
      "metadata": {
        "id": "PB-RjpUnGZp4",
        "outputId": "599dc120-840f-4e54-9f9e-d275986f0d26"
      },
      "outputs": [
        {
          "name": "stdout",
          "output_type": "stream",
          "text": [
            "M = \n",
            " [[1 2 3 4]\n",
            " [5 5 6 7]\n",
            " [1 4 2 3]\n",
            " [5 3 2 1]\n",
            " [8 1 2 2]]\n",
            " ----------------------------------\n",
            "Data Mean = \n",
            " [[4.  3.  3.  3.4]]\n",
            " ----------------------------------\n",
            "Data standard deviation = \n",
            " [[2.68328157 1.41421356 1.54919334 2.05912603]]\n",
            " ----------------------------------\n",
            "X = \n",
            " [[-1.11803399 -0.70710678  0.          0.29138576]\n",
            " [ 0.372678    1.41421356  1.93649167  1.74831455]\n",
            " [-1.11803399  0.70710678 -0.64549722 -0.19425717]\n",
            " [ 0.372678    0.         -0.64549722 -1.16554303]\n",
            " [ 1.49071198 -1.41421356 -0.64549722 -0.6799001 ]]\n",
            " ----------------------------------\n"
          ]
        }
      ],
      "source": [
        "print(f'M = \\n {M}\\n ----------------------------------')\n",
        "\n",
        "Data_Mean=np.mean(M,axis=0,keepdims=True)\n",
        "print(f'Data Mean = \\n {Data_Mean}\\n ----------------------------------')\n",
        "\n",
        "std=np.std(M,axis=0,keepdims=True)\n",
        "print(f'Data standard deviation = \\n {std}\\n ----------------------------------')\n",
        "\n",
        "X= (M-Data_Mean) / std\n",
        "print(f'X = \\n {X}\\n ----------------------------------')\n",
        "\n",
        "\n"
      ]
    },
    {
      "cell_type": "markdown",
      "metadata": {
        "id": "wH5oj3oEGZp5"
      },
      "source": [
        "### Step 2: Calculate the covariance matrix for the features in the dataset."
      ]
    },
    {
      "cell_type": "markdown",
      "metadata": {
        "id": "DW6GkD0AGZp6"
      },
      "source": [
        "-  Calculate covariance matrix using the formula: $C = \\frac{X^TX}{n-1}$,  where $n$ is the number of data points.\n",
        "##### Note: This formula is used because the data has <b>zero</b> mean and <b>1</b> standard deviation.\n",
        "\n",
        "| | Feature #1 | Feature #2 | Feature #3 | Feature #4 |\n",
        "| --- | --- | --- | --- | --- |\n",
        "|**Feature #1** |  1.         | -0.31622777 |  0.04811252 | -0.18098843 |\n",
        "|**Feature #2** | -0.31622777 |  1.         |  0.63900965 |  0.61812254 |\n",
        "|**Feature #3** |  0.04811252 |  0.63900965 |  1.         |  0.94044349 |\n",
        "|**Feature #4** | -0.18098843 |  0.61812254 |  0.94044349 |  1.         |"
      ]
    },
    {
      "cell_type": "code",
      "execution_count": null,
      "metadata": {
        "id": "UZ1M1-GnGZp7",
        "outputId": "e567f3fd-a732-4688-c62a-808fbf068052"
      },
      "outputs": [
        {
          "name": "stdout",
          "output_type": "stream",
          "text": [
            "C = \n",
            " [[ 1.25       -0.39528471  0.06014065 -0.22623554]\n",
            " [-0.39528471  1.25        0.79876206  0.77265317]\n",
            " [ 0.06014065  0.79876206  1.25        1.17555437]\n",
            " [-0.22623554  0.77265317  1.17555437  1.25      ]]\n",
            "\n"
          ]
        }
      ],
      "source": [
        "C =(X.T @ X) /4\n",
        "print(f'C = \\n {C}\\n')\n"
      ]
    },
    {
      "cell_type": "code",
      "execution_count": null,
      "metadata": {
        "id": "Y2RvRHgiGZp9",
        "outputId": "ace93a7e-4b36-4e01-ade0-c5658cc274ab"
      },
      "outputs": [
        {
          "name": "stdout",
          "output_type": "stream",
          "text": [
            "C = \n",
            "[[ 1.         -0.31622777  0.04811252 -0.18098843]\n",
            " [-0.31622777  1.          0.63900965  0.61812254]\n",
            " [ 0.04811252  0.63900965  1.          0.94044349]\n",
            " [-0.18098843  0.61812254  0.94044349  1.        ]]\n",
            "\n"
          ]
        }
      ],
      "source": [
        "#type your code here:\n"
      ]
    },
    {
      "cell_type": "markdown",
      "metadata": {
        "id": "ayLa36xDGZp9"
      },
      "source": [
        "### Step 3: Calculate the eigenvalues and eigenvectors for the covariance matrix and sort eigenvalues and their corresponding eigenvectors.\n",
        "\n",
        "- Find eigen values and the corresponding eigen vectors for the covariance matrix\n",
        "- Calculate how much variance captured in each component. $\\frac{\\lambda_j}{\\sum_{k=1}^{m}\\lambda_k}$, where $m$ is the number of features.\n",
        "\n",
        "| Eigenvector #1 | Eigenvector #2 | Eigenvector #3 | Eigenvector #4 |\n",
        "| --- | --- | --- | --- |\n",
        "| 0.16195986 | -0.91705888 | -0.30707099 |  0.19616173 |\n",
        "|-0.52404813 |  0.20692161 | -0.81731886 |  0.12061043 |\n",
        "|-0.58589647 | -0.3205394  |  0.1882497  | -0.72009851 |\n",
        "|-0.59654663 | -0.11593512 |  0.44973251 |  0.65454704 |"
      ]
    },
    {
      "cell_type": "code",
      "execution_count": null,
      "metadata": {
        "id": "UVtv3lasGZp-",
        "outputId": "a99249cb-ff10-4ae7-b27d-9f1c91d64654"
      },
      "outputs": [
        {
          "name": "stdout",
          "output_type": "stream",
          "text": [
            "Eigenvalues  = \n",
            " [3.14474155 1.33161063 0.4923588  0.03128901]\n",
            " -------------------------------------\n",
            "Percentage of variance  = \n",
            " [0.62894831 0.26632213 0.09847176 0.0062578 ]\n",
            " -------------------------------------\n",
            "Eigenvectors  = \n",
            " [[ 0.16195986 -0.91705888 -0.30707099  0.19616173]\n",
            " [-0.52404813  0.20692161 -0.81731886  0.12061043]\n",
            " [-0.58589647 -0.3205394   0.1882497  -0.72009851]\n",
            " [-0.59654663 -0.11593512  0.44973251  0.65454704]]\n",
            " -------------------------------------\n"
          ]
        }
      ],
      "source": [
        "w, v = np.linalg.eig(C)\n",
        "print(f'Eigenvalues  = \\n {w}\\n -------------------------------------')\n",
        "\n",
        "Percentage_of_variance = w /np.sum(w)\n",
        "print(f'Percentage of variance  = \\n {Percentage_of_variance}\\n -------------------------------------')\n",
        "\n",
        "print(f'Eigenvectors  = \\n {v}\\n -------------------------------------')\n",
        "\n",
        "\n"
      ]
    },
    {
      "cell_type": "code",
      "execution_count": null,
      "metadata": {
        "id": "fkLwDCqHGZp_",
        "outputId": "669edad8-6a70-4541-b536-bd6973011bc0"
      },
      "outputs": [
        {
          "name": "stdout",
          "output_type": "stream",
          "text": [
            "Eigenvalues = \n",
            "[2.51579324 1.0652885  0.39388704 0.02503121]\n",
            "---------------------------------------------\n",
            "Percentage of variance = \n",
            " [0.62894831 0.26632213 0.09847176 0.0062578 ]\n",
            "---------------------------------------------\n",
            "Eigenvectors = \n",
            "[[ 0.16195986 -0.91705888 -0.30707099  0.19616173]\n",
            " [-0.52404813  0.20692161 -0.81731886  0.12061043]\n",
            " [-0.58589647 -0.3205394   0.1882497  -0.72009851]\n",
            " [-0.59654663 -0.11593512  0.44973251  0.65454704]]\n"
          ]
        }
      ],
      "source": [
        "#type your code here:\n",
        "\n"
      ]
    },
    {
      "cell_type": "markdown",
      "metadata": {
        "id": "_9o92225GZp_"
      },
      "source": [
        "### Step 4: Pick $k$ eigenvalues and form a matrix of eigenvectors.\n",
        "\n",
        "- Select the first two eigen vectors"
      ]
    },
    {
      "cell_type": "code",
      "execution_count": null,
      "metadata": {
        "id": "02ti4zEHGZqA",
        "outputId": "1e1d4417-d11a-4706-940b-2c949a3e1d06"
      },
      "outputs": [
        {
          "name": "stdout",
          "output_type": "stream",
          "text": [
            "eig_vecs_2  = \n",
            " [[ 0.16195986 -0.91705888]\n",
            " [-0.52404813  0.20692161]\n",
            " [-0.58589647 -0.3205394 ]\n",
            " [-0.59654663 -0.11593512]]\n",
            "\n"
          ]
        }
      ],
      "source": [
        "eig_vecs_2=v[:,:2]\n",
        "print(f'eig_vecs_2  = \\n {eig_vecs_2}\\n')\n"
      ]
    },
    {
      "cell_type": "markdown",
      "metadata": {
        "id": "QsNxZyeUGZqA"
      },
      "source": [
        "### Step 5:Transform the standardized matrix matrix.\n",
        "\n",
        "- `M_transformed = X @ eig_vecs_2`"
      ]
    },
    {
      "cell_type": "code",
      "execution_count": null,
      "metadata": {
        "id": "AdL6UEuPGZqB",
        "outputId": "effa3ffd-c312-4caf-9d6b-41cc0efd8403"
      },
      "outputs": [
        {
          "name": "stdout",
          "output_type": "stream",
          "text": [
            "M_transformed  = \n",
            " [[ 1.56561741e-02  8.45205482e-01]\n",
            " [-2.85829190e+00 -8.72549250e-01]\n",
            " [-5.75566043e-02  1.40104719e+00]\n",
            " [ 1.13385419e+00  2.66995807e-04]\n",
            " [ 1.76633814e+00 -1.37397042e+00]]\n",
            "\n"
          ]
        }
      ],
      "source": [
        "M_transformed = X @ eig_vecs_2\n",
        "print(f'M_transformed  = \\n {M_transformed}\\n')"
      ]
    },
    {
      "cell_type": "markdown",
      "metadata": {
        "id": "yZAUBwEWGZqB"
      },
      "source": [
        "# Question 2 : Singular Value Decomposition (SVD)\n",
        "\n",
        "#### For a square (real) matrices of size $(n,n)$ can be \"eigendecomposed\"  :\n",
        "$$A = V . Diag(\\Lambda). V^T$$\n",
        "\n",
        "With $V$: eigenvectors \n",
        "; $Diag(\\Lambda)$: eigenvalues (on the diagonal).\n",
        "\n",
        "#### But for a non square  of size $(n,m) (n \\neq m)$, we need to use the  Singular Value Decomposition (SVD)\n",
        "\n",
        "- Let $A $ be a matrix of size $(n,m)$ with  $n \\neq m$ the SVD of A is defined by:\n",
        "\n",
        "$$A= U . S . V^T $$\n",
        "\n",
        "Where:\n",
        " $U$: size $(n,n)$, square;\n",
        " $V$: size $(m,m)$, square;\n",
        " $S$: size $(n,m)$, rectanguler if $n \\neq m$\n",
        " \n",
        "- The values on the \"diagonal\" of $S$ are called: **singular values**. The singular values are generally sorted by decreasing order.\n",
        "- The columns of $U$ are called the **left-singular vectors**\n",
        "- The columns of $V$ are called the **right-singular vectors**"
      ]
    },
    {
      "cell_type": "markdown",
      "metadata": {
        "id": "71gm8_bRGZqC"
      },
      "source": [
        "#### (a) For the matrix $A$, find the SVD"
      ]
    },
    {
      "cell_type": "code",
      "execution_count": null,
      "metadata": {
        "id": "JXotn1cGGZqC",
        "outputId": "7496ff74-384c-4917-ecb3-c8f648d4d985"
      },
      "outputs": [
        {
          "name": "stdout",
          "output_type": "stream",
          "text": [
            "n =  4\n",
            "---------------------------------------------\n",
            "m =  3\n",
            "---------------------------------------------\n",
            "rank =  3\n",
            "---------------------------------------------\n",
            "A = \n",
            " [[1 1 1]\n",
            " [3 4 5]\n",
            " [4 4 4]\n",
            " [4 5 4]]\n"
          ]
        }
      ],
      "source": [
        "A = np.array([[1, 1, 1],\n",
        "              [3, 4, 5],\n",
        "              [4, 4, 4],                            \n",
        "              [4, 5, 4]                      \n",
        "              ])\n",
        "rank = np.linalg.matrix_rank(A)\n",
        "n, m = A.shape\n",
        "print(\"n = \", n)\n",
        "print(\"---------------------------------------------\")\n",
        "print(\"m = \", m)\n",
        "print(\"---------------------------------------------\")\n",
        "print(\"rank = \", rank)\n",
        "print(\"---------------------------------------------\")\n",
        "print(\"A = \\n\", A)"
      ]
    },
    {
      "cell_type": "markdown",
      "metadata": {
        "id": "Y97EY_XCGZqD"
      },
      "source": [
        "- `U, s, VT = np.linalg.svd(A, full_matrices=True)`"
      ]
    },
    {
      "cell_type": "code",
      "execution_count": null,
      "metadata": {
        "id": "VkfFPEBeGZqE",
        "outputId": "8dacc944-a27a-43ff-d76c-2917e31b4835"
      },
      "outputs": [
        {
          "name": "stdout",
          "output_type": "stream",
          "text": [
            "U = \n",
            " [[-1.38201662e-01 -6.54749524e-02 -1.88246808e-01 -9.70142500e-01]\n",
            " [-5.59976765e-01  8.18823566e-01  1.26309104e-01 -1.33226763e-15]\n",
            " [-5.52806648e-01 -2.61899810e-01 -7.52987231e-01  2.42535625e-01]\n",
            " [-6.01440881e-01 -5.06605850e-01  6.17753494e-01 -1.11022302e-15]]\n",
            " ----------------------------------\n",
            "s = \n",
            " [12.49789499  1.23098537  0.53599988]\n",
            " ----------------------------------\n",
            "VT = \n",
            " [[-0.51489647 -0.60782554 -0.60450785]\n",
            " [-0.55486191 -0.30122956  0.77549276]\n",
            " [-0.65345993  0.73471687 -0.1821572 ]]\n",
            " ----------------------------------\n"
          ]
        }
      ],
      "source": [
        "U, s, VT = np.linalg.svd(A, full_matrices=True)\n",
        "print(f'U = \\n {U}\\n ----------------------------------')\n",
        "print(f's = \\n {s}\\n ----------------------------------')\n",
        "print(f'VT = \\n {VT}\\n ----------------------------------')\n",
        "\n"
      ]
    },
    {
      "cell_type": "markdown",
      "metadata": {
        "id": "3XWi0V3eGZqE"
      },
      "source": [
        "- Construct the matrix $A$ from the SVD:\n",
        "$$A= U . S . V^T $$\n",
        "Where:\n",
        " $U$: size $(n,n)$, square;\n",
        " $V$: size $(m,m)$, square;\n",
        " $S$: size $(n,m)$, rectanguler if $n \\neq m$"
      ]
    },
    {
      "cell_type": "code",
      "execution_count": null,
      "metadata": {
        "id": "djbtgc3GGZqF",
        "outputId": "cae1a23b-3e73-4d3f-f0b9-63c150458b4d"
      },
      "outputs": [
        {
          "name": "stdout",
          "output_type": "stream",
          "text": [
            "U = \n",
            " [[-1.38201662e-01 -6.54749524e-02 -1.88246808e-01 -9.70142500e-01]\n",
            " [-5.59976765e-01  8.18823566e-01  1.26309104e-01 -1.33226763e-15]\n",
            " [-5.52806648e-01 -2.61899810e-01 -7.52987231e-01  2.42535625e-01]\n",
            " [-6.01440881e-01 -5.06605850e-01  6.17753494e-01 -1.11022302e-15]]\n",
            " ----------------------------------\n",
            "S = \n",
            " [[12.49789499  0.          0.        ]\n",
            " [ 0.          1.23098537  0.        ]\n",
            " [ 0.          0.          0.53599988]\n",
            " [ 0.          0.          0.        ]]\n",
            " ----------------------------------\n",
            "VT = \n",
            " [[-0.51489647 -0.60782554 -0.60450785]\n",
            " [-0.55486191 -0.30122956  0.77549276]\n",
            " [-0.65345993  0.73471687 -0.1821572 ]]\n",
            " ----------------------------------\n",
            "A = \n",
            " [[1 1 1]\n",
            " [3 4 5]\n",
            " [4 4 4]\n",
            " [4 5 4]]\n",
            " ----------------------------------\n",
            "U @ S @ VT= \n",
            " [[1. 1. 1.]\n",
            " [3. 4. 5.]\n",
            " [4. 4. 4.]\n",
            " [4. 5. 4.]]\n",
            "\n"
          ]
        }
      ],
      "source": [
        "S= np.diag(s)\n",
        "S= np.vstack((S,np.zeros( ((U.shape[0]-S.shape[0]),S.shape[1]) )))\n",
        "print(f'U = \\n {U}\\n ----------------------------------')\n",
        "print(f'S = \\n {S}\\n ----------------------------------')\n",
        "print(f'VT = \\n {VT}\\n ----------------------------------')\n",
        "print(f'A = \\n {A}\\n ----------------------------------')\n",
        "print(f'U @ S @ VT= \\n {U @ S @ VT}\\n')\n",
        "\n",
        "\n"
      ]
    },
    {
      "cell_type": "markdown",
      "metadata": {
        "id": "duvsCtULGZqF"
      },
      "source": [
        "#### $k$-rank approximation\n",
        "\n",
        "- Construct the matrix $\\tilde{A}$ using **$k$-rank approximation**.\n",
        "- Calculate the approximation error using frobenius norm.\n",
        "\n",
        "$$\\tilde{A}= \\tilde{U} . \\tilde{S} . \\tilde{V}^T $$\n",
        "Where:\n",
        " $\\tilde{U}$: size $(n,k)$,\n",
        "  $\\tilde{S}$: size $(k,k)$,\n",
        " $\\tilde{V}$: size $(k,m)$;\n"
      ]
    },
    {
      "cell_type": "code",
      "execution_count": null,
      "metadata": {
        "id": "ixd8jEWeGZqF",
        "outputId": "e2bb4660-8ac6-4ed5-f05c-fa8fc6e86a80"
      },
      "outputs": [
        {
          "name": "stdout",
          "output_type": "stream",
          "text": [
            "K = \n",
            " 3\n",
            " ----------------------------------\n",
            "A = \n",
            " [[1 1 1]\n",
            " [3 4 5]\n",
            " [4 4 4]\n",
            " [4 5 4]]\n",
            " ----------------------------------\n",
            "A_tilde = \n",
            " [[1. 1. 1.]\n",
            " [3. 4. 5.]\n",
            " [4. 4. 4.]\n",
            " [4. 5. 4.]]\n",
            " ----------------------------------\n",
            "A_tilde_rank = \n",
            " 3\n",
            " ----------------------------------\n",
            "error = \n",
            " 7.482277218026854e-15\n",
            " ----------------------------------\n"
          ]
        }
      ],
      "source": [
        "K= U.shape[1]-1\n",
        "print(f'K = \\n {K}\\n ----------------------------------')\n",
        "\n",
        "print(f'A = \\n {A}\\n ----------------------------------')\n",
        "\n",
        "A_tilde = U[:,:K] @ S[:K,:K] @ VT[:K,:]\n",
        "print(f'A_tilde = \\n {A_tilde}\\n ----------------------------------')\n",
        "\n",
        "A_tilde_rank = np.linalg.matrix_rank(A_tilde)\n",
        "print(f'A_tilde_rank = \\n {A_tilde_rank}\\n ----------------------------------')\n",
        "\n",
        "error =np.linalg.norm(A-A_tilde)\n",
        "print(f'error = \\n {error}\\n ----------------------------------')\n",
        "\n"
      ]
    },
    {
      "cell_type": "code",
      "execution_count": null,
      "metadata": {
        "id": "DdbNPsicGZqF",
        "outputId": "2f766e2c-dee0-48b9-84b3-53607f8f006a"
      },
      "outputs": [
        {
          "name": "stdout",
          "output_type": "stream",
          "text": [
            "K = \n",
            " 2\n",
            " ----------------------------------\n",
            "A = \n",
            " [[1 1 1]\n",
            " [3 4 5]\n",
            " [4 4 4]\n",
            " [4 5 4]]\n",
            " ----------------------------------\n",
            "A_tilde = \n",
            " [[0.93406572 1.07413313 0.98162029]\n",
            " [3.04424033 3.95025845 5.01233235]\n",
            " [3.73626287 4.29653251 3.92648116]\n",
            " [4.21637091 4.75672364 4.06031513]]\n",
            " ----------------------------------\n",
            "A_tilde_rank = \n",
            " 2\n",
            " ----------------------------------\n",
            "error = \n",
            " 0.5359998808909967\n",
            " ----------------------------------\n"
          ]
        }
      ],
      "source": [
        "K= U.shape[1]-2\n",
        "print(f'K = \\n {K}\\n ----------------------------------')\n",
        "\n",
        "print(f'A = \\n {A}\\n ----------------------------------')\n",
        "\n",
        "A_tilde = U[:,:K] @ S[:K,:K] @ VT[:K,:]\n",
        "print(f'A_tilde = \\n {A_tilde}\\n ----------------------------------')\n",
        "\n",
        "A_tilde_rank = np.linalg.matrix_rank(A_tilde)\n",
        "print(f'A_tilde_rank = \\n {A_tilde_rank}\\n ----------------------------------')\n",
        "\n",
        "error =np.linalg.norm(A-A_tilde)\n",
        "print(f'error = \\n {error}\\n ----------------------------------')\n"
      ]
    },
    {
      "cell_type": "code",
      "execution_count": null,
      "metadata": {
        "id": "OJ7UOZ0BGZqG",
        "outputId": "7b3a4585-7740-4626-e547-f6efa78fb006"
      },
      "outputs": [
        {
          "name": "stdout",
          "output_type": "stream",
          "text": [
            "K = \n",
            " 1\n",
            " ----------------------------------\n",
            "A = \n",
            " [[1 1 1]\n",
            " [3 4 5]\n",
            " [4 4 4]\n",
            " [4 5 4]]\n",
            " ----------------------------------\n",
            "A_tilde = \n",
            " [[0.88934457 1.04985441 1.044124  ]\n",
            " [3.60351884 4.25388574 4.2306668 ]\n",
            " [3.55737826 4.19941766 4.17649602]\n",
            " [3.87034549 4.56886954 4.54393133]]\n",
            " ----------------------------------\n",
            "A_tilde_rank = \n",
            " 1\n",
            " ----------------------------------\n",
            "error = \n",
            " 1.3426171667971218\n",
            " ----------------------------------\n"
          ]
        }
      ],
      "source": [
        "K= U.shape[1]-3\n",
        "print(f'K = \\n {K}\\n ----------------------------------')\n",
        "\n",
        "print(f'A = \\n {A}\\n ----------------------------------')\n",
        "\n",
        "A_tilde = U[:,:K] @ S[:K,:K] @ VT[:K,:]\n",
        "print(f'A_tilde = \\n {A_tilde}\\n ----------------------------------')\n",
        "\n",
        "A_tilde_rank = np.linalg.matrix_rank(A_tilde)\n",
        "print(f'A_tilde_rank = \\n {A_tilde_rank}\\n ----------------------------------')\n",
        "\n",
        "error =np.linalg.norm(A-A_tilde)\n",
        "print(f'error = \\n {error}\\n ----------------------------------')\n"
      ]
    },
    {
      "cell_type": "markdown",
      "metadata": {
        "id": "b04ThVk2GZqG"
      },
      "source": [
        "#### (b) Repeat the previous steps in (a) for the following matrix"
      ]
    },
    {
      "cell_type": "code",
      "execution_count": null,
      "metadata": {
        "id": "5kEdUMpGGZqG",
        "outputId": "9da01c3d-61dc-445d-998f-a28b7854687b"
      },
      "outputs": [
        {
          "name": "stdout",
          "output_type": "stream",
          "text": [
            "n=  8\n",
            "---------------------------------------------\n",
            "m =  5\n",
            "---------------------------------------------\n",
            "rank =  3\n",
            "---------------------------------------------\n",
            "A = \n",
            " [[1 1 1 0 1]\n",
            " [3 4 5 1 0]\n",
            " [4 4 4 0 1]\n",
            " [4 5 4 1 1]\n",
            " [4 6 4 0 1]\n",
            " [4 7 4 1 1]\n",
            " [4 8 4 0 1]\n",
            " [4 9 4 1 0]]\n"
          ]
        }
      ],
      "source": [
        "A = np.array([[1, 1, 1, 0, 1],\n",
        "              [3, 4, 5, 1, 0],\n",
        "              [4, 4, 4, 0, 1],                            \n",
        "              [4, 5, 4, 1, 1],                            \n",
        "              [4, 6, 4, 0, 1],                            \n",
        "              [4, 7, 4, 1, 1],                            \n",
        "              [4, 8, 4, 0, 1],                            \n",
        "              [4, 9, 4, 1, 0],                            \n",
        "              ])\n",
        "\n",
        "n, m=A.shape\n",
        "print(\"n= \", n)\n",
        "print(\"---------------------------------------------\")\n",
        "print(\"m = \", m)\n",
        "print(\"---------------------------------------------\")\n",
        "print(\"rank = \", rank)\n",
        "print(\"---------------------------------------------\")\n",
        "print(\"A = \\n\", A)"
      ]
    },
    {
      "cell_type": "code",
      "execution_count": null,
      "metadata": {
        "id": "WXzvcjsTGZqG",
        "outputId": "c8f12849-b3e9-4982-b4b2-a99a08b0641d"
      },
      "outputs": [
        {
          "name": "stdout",
          "output_type": "stream",
          "text": [
            "U = \n",
            " [[-7.79647196e-02  1.53017197e-01 -3.53029757e-01  2.28776787e-01\n",
            "  -5.76962582e-01 -3.89374906e-01 -4.47402884e-01  3.29955199e-01]\n",
            " [-3.00949266e-01  5.20610942e-01  6.79399402e-01 -2.51753516e-01\n",
            "  -3.36794308e-01  1.38777878e-16  0.00000000e+00  1.24900090e-16]\n",
            " [-3.00576700e-01  4.63617867e-01 -3.27397215e-01 -2.20288109e-01\n",
            "   4.89461080e-01  1.59353557e-01 -2.77306115e-02  5.22744336e-01]\n",
            " [-3.36545919e-01  2.83109965e-01 -4.23712681e-02  5.82223875e-01\n",
            "   2.17668378e-01 -4.40108902e-01  3.86180307e-01 -2.74945500e-01]\n",
            " [-3.66610234e-01  7.50478785e-02 -3.01628285e-01 -3.07975353e-01\n",
            "   6.53503597e-02  2.40580614e-02 -4.42569805e-01 -6.88054373e-01]\n",
            " [-4.02579453e-01 -1.05460024e-01 -1.66023380e-02  4.94536632e-01\n",
            "  -2.06442342e-01  7.32140081e-01 -5.06281445e-02  2.74791006e-02]\n",
            " [-4.32643767e-01 -3.13522110e-01 -2.75859355e-01 -3.95662596e-01\n",
            "  -3.58760361e-01 -8.60678922e-02  5.82151138e-01  8.28212366e-02]\n",
            " [-4.64852261e-01 -5.43513653e-01  3.70740529e-01  2.83843017e-02\n",
            "   3.01884073e-01 -2.92031179e-01 -3.35552163e-01  2.47466399e-01]]\n",
            " ----------------------------------\n",
            "s = \n",
            " [22.57699942  3.35144935  1.90842851  1.00414786  0.62966044]\n",
            " ----------------------------------\n",
            "VT = \n",
            " [[-0.45161209 -0.74541953 -0.4782719  -0.06665752 -0.08490591]\n",
            " [ 0.34372285 -0.65113632  0.65440094  0.04617323  0.16584191]\n",
            " [-0.36014096  0.02458908  0.35185784  0.51936256 -0.69003801]\n",
            " [ 0.19757174 -0.04402548 -0.30385545  0.84986617  0.38003491]\n",
            " [ 0.713558   -0.13352287 -0.35620687 -0.03761424 -0.58711878]]\n",
            " ----------------------------------\n"
          ]
        }
      ],
      "source": [
        "U, s, VT = np.linalg.svd(A, full_matrices=True)\n",
        "print(f'U = \\n {U}\\n ----------------------------------')\n",
        "print(f's = \\n {s}\\n ----------------------------------')\n",
        "print(f'VT = \\n {VT}\\n ----------------------------------')\n",
        "\n"
      ]
    },
    {
      "cell_type": "code",
      "execution_count": null,
      "metadata": {
        "id": "o2SF91s_GZqH",
        "outputId": "24abe60f-7cd1-4b45-9969-4bbfe73a5ba4"
      },
      "outputs": [
        {
          "name": "stdout",
          "output_type": "stream",
          "text": [
            "U = \n",
            " [[-7.79647196e-02  1.53017197e-01 -3.53029757e-01  2.28776787e-01\n",
            "  -5.76962582e-01 -3.89374906e-01 -4.47402884e-01  3.29955199e-01]\n",
            " [-3.00949266e-01  5.20610942e-01  6.79399402e-01 -2.51753516e-01\n",
            "  -3.36794308e-01  1.38777878e-16  0.00000000e+00  1.24900090e-16]\n",
            " [-3.00576700e-01  4.63617867e-01 -3.27397215e-01 -2.20288109e-01\n",
            "   4.89461080e-01  1.59353557e-01 -2.77306115e-02  5.22744336e-01]\n",
            " [-3.36545919e-01  2.83109965e-01 -4.23712681e-02  5.82223875e-01\n",
            "   2.17668378e-01 -4.40108902e-01  3.86180307e-01 -2.74945500e-01]\n",
            " [-3.66610234e-01  7.50478785e-02 -3.01628285e-01 -3.07975353e-01\n",
            "   6.53503597e-02  2.40580614e-02 -4.42569805e-01 -6.88054373e-01]\n",
            " [-4.02579453e-01 -1.05460024e-01 -1.66023380e-02  4.94536632e-01\n",
            "  -2.06442342e-01  7.32140081e-01 -5.06281445e-02  2.74791006e-02]\n",
            " [-4.32643767e-01 -3.13522110e-01 -2.75859355e-01 -3.95662596e-01\n",
            "  -3.58760361e-01 -8.60678922e-02  5.82151138e-01  8.28212366e-02]\n",
            " [-4.64852261e-01 -5.43513653e-01  3.70740529e-01  2.83843017e-02\n",
            "   3.01884073e-01 -2.92031179e-01 -3.35552163e-01  2.47466399e-01]]\n",
            " ----------------------------------\n",
            "S = \n",
            " [[22.57699942  0.          0.          0.          0.        ]\n",
            " [ 0.          3.35144935  0.          0.          0.        ]\n",
            " [ 0.          0.          1.90842851  0.          0.        ]\n",
            " [ 0.          0.          0.          1.00414786  0.        ]\n",
            " [ 0.          0.          0.          0.          0.62966044]\n",
            " [ 0.          0.          0.          0.          0.        ]\n",
            " [ 0.          0.          0.          0.          0.        ]\n",
            " [ 0.          0.          0.          0.          0.        ]]\n",
            " ----------------------------------\n",
            "VT = \n",
            " [[-0.45161209 -0.74541953 -0.4782719  -0.06665752 -0.08490591]\n",
            " [ 0.34372285 -0.65113632  0.65440094  0.04617323  0.16584191]\n",
            " [-0.36014096  0.02458908  0.35185784  0.51936256 -0.69003801]\n",
            " [ 0.19757174 -0.04402548 -0.30385545  0.84986617  0.38003491]\n",
            " [ 0.713558   -0.13352287 -0.35620687 -0.03761424 -0.58711878]]\n",
            " ----------------------------------\n",
            "A = \n",
            " [[1 1 1 0 1]\n",
            " [3 4 5 1 0]\n",
            " [4 4 4 0 1]\n",
            " [4 5 4 1 1]\n",
            " [4 6 4 0 1]\n",
            " [4 7 4 1 1]\n",
            " [4 8 4 0 1]\n",
            " [4 9 4 1 0]]\n",
            " ----------------------------------\n",
            "U @ S @ VT= \n",
            " [[ 1.00000000e+00  1.00000000e+00  1.00000000e+00 -4.40619763e-16\n",
            "   1.00000000e+00]\n",
            " [ 3.00000000e+00  4.00000000e+00  5.00000000e+00  1.00000000e+00\n",
            "   4.71844785e-16]\n",
            " [ 4.00000000e+00  4.00000000e+00  4.00000000e+00 -3.34801631e-16\n",
            "   1.00000000e+00]\n",
            " [ 4.00000000e+00  5.00000000e+00  4.00000000e+00  1.00000000e+00\n",
            "   1.00000000e+00]\n",
            " [ 4.00000000e+00  6.00000000e+00  4.00000000e+00 -4.73145828e-16\n",
            "   1.00000000e+00]\n",
            " [ 4.00000000e+00  7.00000000e+00  4.00000000e+00  1.00000000e+00\n",
            "   1.00000000e+00]\n",
            " [ 4.00000000e+00  8.00000000e+00  4.00000000e+00 -5.81132364e-16\n",
            "   1.00000000e+00]\n",
            " [ 4.00000000e+00  9.00000000e+00  4.00000000e+00  1.00000000e+00\n",
            "  -1.22124533e-15]]\n",
            "\n"
          ]
        }
      ],
      "source": [
        "S= np.diag(s)\n",
        "S=np.vstack((S,np.zeros( ((U.shape[0]-S.shape[0]),S.shape[1]) )))\n",
        "print(f'U = \\n {U}\\n ----------------------------------')\n",
        "print(f'S = \\n {S}\\n ----------------------------------')\n",
        "print(f'VT = \\n {VT}\\n ----------------------------------')\n",
        "print(f'A = \\n {A}\\n ----------------------------------')\n",
        "print(f'U @ S @ VT= \\n {U @ S @ VT}\\n')\n",
        "\n"
      ]
    },
    {
      "cell_type": "code",
      "execution_count": null,
      "metadata": {
        "id": "fAkY96M9GZqH",
        "outputId": "ef97514c-b264-4952-9e20-b3e63642bccd"
      },
      "outputs": [
        {
          "name": "stdout",
          "output_type": "stream",
          "text": [
            "K = \n",
            " 5\n",
            " ----------------------------------\n",
            "A = \n",
            " [[1 1 1 0 1]\n",
            " [3 4 5 1 0]\n",
            " [4 4 4 0 1]\n",
            " [4 5 4 1 1]\n",
            " [4 6 4 0 1]\n",
            " [4 7 4 1 1]\n",
            " [4 8 4 0 1]\n",
            " [4 9 4 1 0]]\n",
            " ----------------------------------\n",
            "A_tilde = \n",
            " [[ 1.00000000e+00  1.00000000e+00  1.00000000e+00 -4.40619763e-16\n",
            "   1.00000000e+00]\n",
            " [ 3.00000000e+00  4.00000000e+00  5.00000000e+00  1.00000000e+00\n",
            "   4.71844785e-16]\n",
            " [ 4.00000000e+00  4.00000000e+00  4.00000000e+00 -3.34801631e-16\n",
            "   1.00000000e+00]\n",
            " [ 4.00000000e+00  5.00000000e+00  4.00000000e+00  1.00000000e+00\n",
            "   1.00000000e+00]\n",
            " [ 4.00000000e+00  6.00000000e+00  4.00000000e+00 -4.73145828e-16\n",
            "   1.00000000e+00]\n",
            " [ 4.00000000e+00  7.00000000e+00  4.00000000e+00  1.00000000e+00\n",
            "   1.00000000e+00]\n",
            " [ 4.00000000e+00  8.00000000e+00  4.00000000e+00 -5.81132364e-16\n",
            "   1.00000000e+00]\n",
            " [ 4.00000000e+00  9.00000000e+00  4.00000000e+00  1.00000000e+00\n",
            "  -1.22124533e-15]]\n",
            " ----------------------------------\n",
            "A_tilde_rank = \n",
            " 5\n",
            " ----------------------------------\n",
            "error = \n",
            " 2.5198508814155332e-14\n",
            " ----------------------------------\n"
          ]
        }
      ],
      "source": [
        "K= U.shape[1]-3\n",
        "print(f'K = \\n {K}\\n ----------------------------------')\n",
        "\n",
        "print(f'A = \\n {A}\\n ----------------------------------')\n",
        "\n",
        "A_tilde = U[:,:K] @ S[:K,:K] @ VT[:K,:]\n",
        "print(f'A_tilde = \\n {A_tilde}\\n ----------------------------------')\n",
        "\n",
        "A_tilde_rank = np.linalg.matrix_rank(A_tilde)\n",
        "print(f'A_tilde_rank = \\n {A_tilde_rank}\\n ----------------------------------')\n",
        "\n",
        "error =np.linalg.norm(A-A_tilde)\n",
        "print(f'error = \\n {error}\\n ----------------------------------')\n",
        "\n"
      ]
    },
    {
      "cell_type": "code",
      "execution_count": null,
      "metadata": {
        "id": "4BQc66V_GZqH",
        "outputId": "3e3801eb-522f-42f0-d89d-8aa66db594a9"
      },
      "outputs": [
        {
          "name": "stdout",
          "output_type": "stream",
          "text": [
            "K = \n",
            " 4\n",
            " ----------------------------------\n",
            "A = \n",
            " [[1 1 1 0 1]\n",
            " [3 4 5 1 0]\n",
            " [4 4 4 0 1]\n",
            " [4 5 4 1 1]\n",
            " [4 6 4 0 1]\n",
            " [4 7 4 1 1]\n",
            " [4 8 4 0 1]\n",
            " [4 9 4 1 0]]\n",
            " ----------------------------------\n",
            "A_tilde = \n",
            " [[ 1.25922885e+00  9.51492408e-01  8.70593425e-01 -1.36648969e-02\n",
            "   7.86705318e-01]\n",
            " [ 3.15132143e+00  3.97168433e+00  4.92446062e+00  9.92023296e-01\n",
            "  -1.24507961e-01]\n",
            " [ 3.78008551e+00  4.04115099e+00  4.10978092e+00  1.15924939e-02\n",
            "   1.18094665e+00]\n",
            " [ 3.90220176e+00  5.01830027e+00  4.04882070e+00  1.00515530e+00\n",
            "   1.08046884e+00]\n",
            " [ 3.97063813e+00  6.00549427e+00  4.01465739e+00  1.54777096e-03\n",
            "   1.02415908e+00]\n",
            " [ 4.09275439e+00  6.98264355e+00  3.95369718e+00  9.95110578e-01\n",
            "   9.23681266e-01]\n",
            " [ 4.16119076e+00  7.96983756e+00  3.91953386e+00 -8.49695197e-03\n",
            "   8.67371508e-01]\n",
            " [ 3.86436371e+00  9.02538062e+00  4.06770939e+00  1.00714988e+00\n",
            "   1.11602155e-01]]\n",
            " ----------------------------------\n",
            "A_tilde_rank = \n",
            " 4\n",
            " ----------------------------------\n",
            "error = \n",
            " 0.6296604396728646\n",
            " ----------------------------------\n"
          ]
        }
      ],
      "source": [
        "K= U.shape[1]-4\n",
        "print(f'K = \\n {K}\\n ----------------------------------')\n",
        "\n",
        "print(f'A = \\n {A}\\n ----------------------------------')\n",
        "\n",
        "A_tilde = U[:,:K] @ S[:K,:K] @ VT[:K,:]\n",
        "print(f'A_tilde = \\n {A_tilde}\\n ----------------------------------')\n",
        "\n",
        "A_tilde_rank = np.linalg.matrix_rank(A_tilde)\n",
        "print(f'A_tilde_rank = \\n {A_tilde_rank}\\n ----------------------------------')\n",
        "\n",
        "error =np.linalg.norm(A-A_tilde)\n",
        "print(f'error = \\n {error}\\n ----------------------------------')\n"
      ]
    },
    {
      "cell_type": "code",
      "execution_count": null,
      "metadata": {
        "id": "Y-VgUGIxGZqI",
        "outputId": "dc68951b-fe5d-4707-93be-df2f5025d98e"
      },
      "outputs": [
        {
          "name": "stdout",
          "output_type": "stream",
          "text": [
            "K = \n",
            " 3\n",
            " ----------------------------------\n",
            "A = \n",
            " [[1 1 1 0 1]\n",
            " [3 4 5 1 0]\n",
            " [4 4 4 0 1]\n",
            " [4 5 4 1 1]\n",
            " [4 6 4 0 1]\n",
            " [4 7 4 1 1]\n",
            " [4 8 4 0 1]\n",
            " [4 9 4 1 0]]\n",
            " ----------------------------------\n",
            "A_tilde = \n",
            " [[ 1.21384154  0.96160619  0.94039684 -0.20890102  0.69940153]\n",
            " [ 3.20126712  3.96055479  4.84764664  1.20686756 -0.02843599]\n",
            " [ 3.82378874  4.03141247  4.04256754  0.19958445  1.26501107]\n",
            " [ 3.78669365  5.04403927  4.2264664   0.50829052  0.85828566]\n",
            " [ 4.03173774  5.99187927  3.92068925  0.26437126  1.14168593]\n",
            " [ 3.99464265  7.00450607  4.10458811  0.57307732  0.73496053]\n",
            " [ 4.23968675  7.95234607  3.79881096  0.32915806  1.0183608 ]\n",
            " [ 3.85873252  9.02663544  4.07636989  0.98292697  0.10077039]]\n",
            " ----------------------------------\n",
            "A_tilde_rank = \n",
            " 3\n",
            " ----------------------------------\n",
            "error = \n",
            " 1.185236342936831\n",
            " ----------------------------------\n"
          ]
        }
      ],
      "source": [
        "K= U.shape[1]-5\n",
        "print(f'K = \\n {K}\\n ----------------------------------')\n",
        "\n",
        "print(f'A = \\n {A}\\n ----------------------------------')\n",
        "\n",
        "A_tilde = U[:,:K] @ S[:K,:K] @ VT[:K,:]\n",
        "print(f'A_tilde = \\n {A_tilde}\\n ----------------------------------')\n",
        "\n",
        "A_tilde_rank = np.linalg.matrix_rank(A_tilde)\n",
        "print(f'A_tilde_rank = \\n {A_tilde_rank}\\n ----------------------------------')\n",
        "\n",
        "error =np.linalg.norm(A-A_tilde)\n",
        "print(f'error = \\n {error}\\n ----------------------------------')\n"
      ]
    },
    {
      "cell_type": "code",
      "execution_count": null,
      "metadata": {
        "id": "cpCuqPtFGZqI",
        "outputId": "c8e0eb76-36cc-484a-a0f1-65545dee3872"
      },
      "outputs": [
        {
          "name": "stdout",
          "output_type": "stream",
          "text": [
            "K = \n",
            " 2\n",
            " ----------------------------------\n",
            "A = \n",
            " [[1 1 1 0 1]\n",
            " [3 4 5 1 0]\n",
            " [4 4 4 0 1]\n",
            " [4 5 4 1 1]\n",
            " [4 6 4 0 1]\n",
            " [4 7 4 1 1]\n",
            " [4 8 4 0 1]\n",
            " [4 9 4 1 0]]\n",
            " ----------------------------------\n",
            "A_tilde = \n",
            " [[0.97120303 0.97817264 1.17745474 0.14101019 0.2345008 ]\n",
            " [3.66822055 3.92867295 4.39143298 0.53346975 0.86625708]\n",
            " [3.59876756 4.04677607 4.2624133  0.52408954 0.83386553]\n",
            " [3.75757173 5.04602761 4.25491852 0.55028749 0.80248744]\n",
            " [3.82442764 6.00603363 4.12323129 0.56333505 0.7444752 ]\n",
            " [3.98323181 7.00528516 4.11573651 0.589533   0.71309711]\n",
            " [4.05008771 7.96529118 3.98404928 0.60258057 0.65508487]\n",
            " [4.1135437  9.00923788 3.82741928 0.61546144 0.58899422]]\n",
            " ----------------------------------\n",
            "A_tilde_rank = \n",
            " 2\n",
            " ----------------------------------\n",
            "error = \n",
            " 2.246527226817545\n",
            " ----------------------------------\n"
          ]
        }
      ],
      "source": [
        "K= U.shape[1]-6\n",
        "print(f'K = \\n {K}\\n ----------------------------------')\n",
        "\n",
        "print(f'A = \\n {A}\\n ----------------------------------')\n",
        "\n",
        "A_tilde = U[:,:K] @ S[:K,:K] @ VT[:K,:]\n",
        "print(f'A_tilde = \\n {A_tilde}\\n ----------------------------------')\n",
        "\n",
        "A_tilde_rank = np.linalg.matrix_rank(A_tilde)\n",
        "print(f'A_tilde_rank = \\n {A_tilde_rank}\\n ----------------------------------')\n",
        "\n",
        "error =np.linalg.norm(A-A_tilde)\n",
        "print(f'error = \\n {error}\\n ----------------------------------')\n"
      ]
    },
    {
      "cell_type": "code",
      "execution_count": null,
      "metadata": {
        "id": "LkKJXlnDGZqI",
        "outputId": "6a9f8fb3-adb5-4331-f6eb-3cde7b1b0ee0"
      },
      "outputs": [
        {
          "name": "stdout",
          "output_type": "stream",
          "text": [
            "K = \n",
            " 1\n",
            " ----------------------------------\n",
            "A = \n",
            " [[1 1 1 0 1]\n",
            " [3 4 5 1 0]\n",
            " [4 4 4 0 1]\n",
            " [4 5 4 1 1]\n",
            " [4 6 4 0 1]\n",
            " [4 7 4 1 1]\n",
            " [4 8 4 0 1]\n",
            " [4 9 4 1 0]]\n",
            " ----------------------------------\n",
            "A_tilde = \n",
            " [[0.79493186 1.31209448 0.84185871 0.1173312  0.14945219]\n",
            " [3.06849251 5.06477638 3.24963343 0.45290665 0.57689591]\n",
            " [3.06469381 5.05850635 3.24561049 0.45234596 0.57618173]\n",
            " [3.43143763 5.66384444 3.63400412 0.50647701 0.64513187]\n",
            " [3.73797475 6.16980689 3.95863691 0.5517216  0.70276278]\n",
            " [4.10471857 6.77514498 4.34703055 0.60585265 0.77171293]\n",
            " [4.41125569 7.28110744 4.67166334 0.65109724 0.82934383]\n",
            " [4.73965497 7.823155   5.01944886 0.69956867 0.89108496]]\n",
            " ----------------------------------\n",
            "A_tilde_rank = \n",
            " 1\n",
            " ----------------------------------\n",
            "error = \n",
            " 4.03473633898596\n",
            " ----------------------------------\n"
          ]
        }
      ],
      "source": [
        "K= U.shape[1]-7\n",
        "print(f'K = \\n {K}\\n ----------------------------------')\n",
        "\n",
        "print(f'A = \\n {A}\\n ----------------------------------')\n",
        "\n",
        "A_tilde = U[:,:K] @ S[:K,:K] @ VT[:K,:]\n",
        "print(f'A_tilde = \\n {A_tilde}\\n ----------------------------------')\n",
        "\n",
        "A_tilde_rank = np.linalg.matrix_rank(A_tilde)\n",
        "print(f'A_tilde_rank = \\n {A_tilde_rank}\\n ----------------------------------')\n",
        "\n",
        "error =np.linalg.norm(A-A_tilde)\n",
        "print(f'error = \\n {error}\\n ----------------------------------')\n"
      ]
    }
  ],
  "metadata": {
    "kernelspec": {
      "display_name": "Python 3 (ipykernel)",
      "language": "python",
      "name": "python3"
    },
    "language_info": {
      "codemirror_mode": {
        "name": "ipython",
        "version": 3
      },
      "file_extension": ".py",
      "mimetype": "text/x-python",
      "name": "python",
      "nbconvert_exporter": "python",
      "pygments_lexer": "ipython3",
      "version": "3.9.7"
    },
    "colab": {
      "name": "Yassmina_Abdo.ipynb",
      "provenance": [],
      "include_colab_link": true
    }
  },
  "nbformat": 4,
  "nbformat_minor": 0
}