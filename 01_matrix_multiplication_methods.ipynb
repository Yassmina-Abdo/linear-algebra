{
  "cells": [
    {
      "cell_type": "markdown",
      "metadata": {
        "id": "view-in-github",
        "colab_type": "text"
      },
      "source": [
        "<a href=\"https://colab.research.google.com/github/Yassmina-Abdo/linear-algebra/blob/main/01_matrix_multiplication_methods.ipynb\" target=\"_parent\"><img src=\"https://colab.research.google.com/assets/colab-badge.svg\" alt=\"Open In Colab\"/></a>"
      ]
    },
    {
      "cell_type": "markdown",
      "metadata": {
        "id": "kctmYR5hDXYZ"
      },
      "source": [
        "# LAB 1: Matrix and Vector Computations in python\n",
        "In this lab you will use python to study the following topics:\n",
        "\n",
        "- How to create matrices and vectors in python.\n",
        "\n",
        "- How to manipulate matrices in python and create matrices of special types.\n",
        "\n",
        "- How to add matrices and multiply a vector by a matrix by python.\n",
        "\n",
        "- Solving System of Linear Equations Using Gaussian Elimination.\n",
        "\n",
        "- Matrix Multiplication using Different views."
      ]
    },
    {
      "cell_type": "markdown",
      "metadata": {
        "id": "Pbr-E9RmDXYh"
      },
      "source": [
        "# First: you should run this cell"
      ]
    },
    {
      "cell_type": "code",
      "execution_count": null,
      "metadata": {
        "id": "N7BMe_8CDXYi"
      },
      "outputs": [],
      "source": [
        "# Make all numpy available via shorter 'np' prefix\n",
        "import numpy as np\n",
        "\n",
        "import sympy as sym"
      ]
    },
    {
      "cell_type": "markdown",
      "metadata": {
        "id": "WNj-XEj5DXYl"
      },
      "source": [
        "# Question 1 :Declaring scalars, vectors, and matrices\n",
        "\n",
        "a) Use [numpy.array](https://numpy.org/doc/stable/reference/generated/numpy.array.html) to declare the following:\n",
        "\n",
        "1. A scalar $s = 5$\n",
        "2. A vector $v = \\begin{bmatrix} 5  \\\\ -2 \\\\ 4  \\\\ \\end{bmatrix}$\n",
        "3. A matrix $A = \\begin{bmatrix} 1 & 2 & 3  \\\\ 4 & 5 & 6 \\\\ 7 & 8 & 9  \\\\ \\end{bmatrix}$\n",
        "4. A matrix $B = \\begin{bmatrix} 1 & 2 & 3  \\\\ 4 & 5 & 6 \\\\ \\end{bmatrix}$\n",
        "5. A matrix $C = \\begin{bmatrix} 1 & 2   \\\\ 3 & 4  \\\\ 5 & 6   \\\\ \\end{bmatrix}$"
      ]
    },
    {
      "cell_type": "code",
      "execution_count": null,
      "metadata": {
        "id": "QMy_OGlEDXYm",
        "outputId": "768abdef-f051-4b47-c9f5-ac083b4f347d"
      },
      "outputs": [
        {
          "name": "stdout",
          "output_type": "stream",
          "text": [
            "5\n",
            "[[ 5]\n",
            " [-2]\n",
            " [ 4]]\n",
            "[[1 2 3]\n",
            " [4 5 6]\n",
            " [7 8 9]]\n",
            "[[1 2 3]\n",
            " [4 5 6]]\n",
            "[[1 2]\n",
            " [3 4]\n",
            " [5 6]]\n"
          ]
        }
      ],
      "source": [
        "s= np.int64(5)\n",
        "v=np.array([ [5],[-2],[4] ])\n",
        "A=np.array([[1,2,3],[4,5,6],[7,8,9]])\n",
        "B= np.array([[1,2,3],[4,5,6]])\n",
        "C=np.array([[1,2],[3,4],[5,6]])\n",
        "\n",
        "print(s)\n",
        "print(v)\n",
        "print(A)\n",
        "print(B)\n",
        "print(C)"
      ]
    },
    {
      "cell_type": "markdown",
      "metadata": {
        "id": "HZ0rhj3nDXYo"
      },
      "source": [
        "b) Print the data type of $s, v,$ and $A$ using `type` command in python."
      ]
    },
    {
      "cell_type": "code",
      "execution_count": null,
      "metadata": {
        "id": "3n8kv0iADXYp",
        "outputId": "6c2de4a5-5da6-4707-f8fe-73cb0a6e24d4"
      },
      "outputs": [
        {
          "name": "stdout",
          "output_type": "stream",
          "text": [
            "<class 'numpy.int64'>\n",
            "<class 'numpy.ndarray'>\n",
            "<class 'numpy.ndarray'>\n"
          ]
        }
      ],
      "source": [
        "#type your code here:\n",
        "print(type(s))\n",
        "print(type(v))\n",
        "print(type(A))\n"
      ]
    },
    {
      "cell_type": "markdown",
      "metadata": {
        "id": "DNacM6OpDXYr"
      },
      "source": [
        "c) Using [numpy.shape](https://numpy.org/devdocs/reference/generated/numpy.shape.html) or `A.shape` print the shape of $s, v, A, B,$ and $C$."
      ]
    },
    {
      "cell_type": "code",
      "execution_count": null,
      "metadata": {
        "id": "OQPWwLDTDXYs",
        "outputId": "137f5e2c-98b6-40a7-997c-a75a732abbc1"
      },
      "outputs": [
        {
          "name": "stdout",
          "output_type": "stream",
          "text": [
            "()\n",
            "(3, 1)\n",
            "(3, 3)\n",
            "(2, 3)\n",
            "(3, 2)\n"
          ]
        }
      ],
      "source": [
        "#type your code here:\n",
        "print(s.shape)\n",
        "print(v.shape)\n",
        "print(A.shape)\n",
        "print(B.shape)\n",
        "print(C.shape)\n"
      ]
    },
    {
      "cell_type": "markdown",
      "metadata": {
        "id": "wYe8FyDYDXYt"
      },
      "source": [
        "d) To access a given entry in the `numpy array` put the `row number - 1` and `column number - 1` in square brackets following the array name. Ex `a32 = A[2, 1]`.\n",
        "- Print the value of the third row and the second column of the matrix $A$.\n",
        "- Change it to $10$.\n",
        "- Print the matrix A to check the entry is changed."
      ]
    },
    {
      "cell_type": "code",
      "execution_count": null,
      "metadata": {
        "id": "0FLqKYQvDXYu",
        "outputId": "2413e389-c7a2-4cce-a913-762a6bd49f32"
      },
      "outputs": [
        {
          "name": "stdout",
          "output_type": "stream",
          "text": [
            "8\n",
            "[[ 1  2  3]\n",
            " [ 4  5  6]\n",
            " [ 7 10  9]]\n"
          ]
        }
      ],
      "source": [
        "#type your code here:\n",
        "print(A[2,1])\n",
        "A[2,1]=10\n",
        "print(A)\n"
      ]
    },
    {
      "cell_type": "markdown",
      "metadata": {
        "id": "VHAYRmJjDXYv"
      },
      "source": [
        "e)To access a whole row or column of a matrix, use the colon operator. For example, `A[:, [1]]` is the second column of A, while `B[[1], :]` is the second row of B."
      ]
    },
    {
      "cell_type": "code",
      "execution_count": null,
      "metadata": {
        "id": "sw3EHJKXDXYv",
        "outputId": "9408c890-dd3c-4909-f759-9ca7adc0ba32"
      },
      "outputs": [
        {
          "name": "stdout",
          "output_type": "stream",
          "text": [
            "[[ 2]\n",
            " [ 5]\n",
            " [10]]\n",
            "[[4 5 6]]\n"
          ]
        }
      ],
      "source": [
        "#type your code here:\n",
        "print(A[:,[1]])\n",
        "print(B[[1],:])\n"
      ]
    },
    {
      "cell_type": "markdown",
      "metadata": {
        "id": "a1wHJUQnDXYw"
      },
      "source": [
        "f) Type each of the following commands that generate special matrices:\n",
        "- `np.eye(4), np.zeros(3), np.zeros((3, 1)), np.zeros((3, 5)), np.ones((2, 3)), and np.diag([4, 5, 6, 7])`"
      ]
    },
    {
      "cell_type": "code",
      "execution_count": null,
      "metadata": {
        "id": "5oSYGxJPDXYw",
        "outputId": "14755958-700a-47c6-c1d5-01a2ac2614dd"
      },
      "outputs": [
        {
          "name": "stdout",
          "output_type": "stream",
          "text": [
            "[[1. 0. 0. 0.]\n",
            " [0. 1. 0. 0.]\n",
            " [0. 0. 1. 0.]\n",
            " [0. 0. 0. 1.]]\n",
            "[0. 0. 0.]\n",
            "[[0.]\n",
            " [0.]\n",
            " [0.]]\n",
            "[[0. 0. 0. 0. 0.]\n",
            " [0. 0. 0. 0. 0.]\n",
            " [0. 0. 0. 0. 0.]]\n",
            "[[1. 1. 1.]\n",
            " [1. 1. 1.]]\n",
            "[[4 0 0 0]\n",
            " [0 5 0 0]\n",
            " [0 0 6 0]\n",
            " [0 0 0 7]]\n"
          ]
        }
      ],
      "source": [
        "#type your code here:\n",
        "print(np.eye(4))\n",
        "print(np.zeros(3))\n",
        "print(np.zeros((3,1)) )\n",
        "print(np.zeros((3,5)))\n",
        "print(np.ones((2,3)))\n",
        "print(np.diag([4,5,6,7]))\n",
        "\n"
      ]
    },
    {
      "cell_type": "markdown",
      "metadata": {
        "id": "d_K5cuLDDXYx"
      },
      "source": [
        "# Question 2. Vectors Addition, Scaling, and dot product"
      ]
    },
    {
      "cell_type": "markdown",
      "metadata": {
        "id": "m64iwevJDXYx"
      },
      "source": [
        "a) Declare vectors $v1 = \\begin{bmatrix} 1  \\\\ 2 \\\\ 7  \\\\ 4 \\\\ \\end{bmatrix}$ and $v2 = \\begin{bmatrix} 4  \\\\ 3 \\\\ 6  \\\\ 8 \\\\ \\end{bmatrix}$\n",
        "\n",
        "- Addition: $v1 + v2$\n",
        "- Subtraction: $v1 - v2$\n",
        "- Scaling by a number: $3 * v1$\n",
        "- Scaling by a number: $v1 / 2$"
      ]
    },
    {
      "cell_type": "code",
      "execution_count": null,
      "metadata": {
        "id": "ZLaN8rP6DXYy",
        "outputId": "ed420ea0-b9c2-4c6c-ce79-2c40e1c444dd"
      },
      "outputs": [
        {
          "name": "stdout",
          "output_type": "stream",
          "text": [
            "[[ 5]\n",
            " [ 5]\n",
            " [13]\n",
            " [12]]\n",
            "[[-3]\n",
            " [-1]\n",
            " [ 1]\n",
            " [-4]]\n",
            "[[ 3]\n",
            " [ 6]\n",
            " [21]\n",
            " [12]]\n",
            "[[0.5]\n",
            " [1. ]\n",
            " [3.5]\n",
            " [2. ]]\n"
          ]
        }
      ],
      "source": [
        "#type your code here:\n",
        "v1 =np.array([ [1],[2],[7],[4]])\n",
        "v2 =np.array([[4],[3],[6],[8]])\n",
        "print(np.add(v1,v2))\n",
        "print(np.subtract(v1,v2))\n",
        "print(np.dot(v1,3))\n",
        "print(np.dot(v1,1/2))\n",
        "\n",
        "\n"
      ]
    },
    {
      "cell_type": "markdown",
      "metadata": {
        "id": "vvgFw19aDXYy"
      },
      "source": [
        "b) Find the dot product between the two vectors $v1$ and $v2$ using the following:\n",
        "\n",
        "- [numpy.dot](https://numpy.org/doc/stable/reference/generated/numpy.dot.html)\n",
        "- [numpy.matmul](https://numpy.org/doc/stable/reference/generated/numpy.matmul.html#numpy.matmul)\n",
        "- `v1.T @ v2`"
      ]
    },
    {
      "cell_type": "code",
      "execution_count": null,
      "metadata": {
        "id": "J3iRWm4nDXYz",
        "outputId": "e5e54b81-8b08-4b3e-8f61-dc711d9346ca"
      },
      "outputs": [
        {
          "name": "stdout",
          "output_type": "stream",
          "text": [
            "[[84]]\n",
            "[[84]]\n",
            "[[84]]\n"
          ]
        }
      ],
      "source": [
        "#type your code here:\n",
        "print(np.dot(v1.T,v2))\n",
        "print(np.matmul(v1.T,v2))\n",
        "print(v1.T @ v2)\n"
      ]
    },
    {
      "cell_type": "markdown",
      "metadata": {
        "id": "GJoXMCdRDXY0"
      },
      "source": [
        "c) Find the length of the vectors $v1$ and $v2$.\n",
        "- Using [numpy.linalg.norm](https://numpy.org/doc/stable/reference/generated/numpy.linalg.norm.html)\n",
        "- Using the dot product and [numpy.sqrt](https://numpy.org/doc/stable/reference/generated/numpy.sqrt.html)\n"
      ]
    },
    {
      "cell_type": "code",
      "execution_count": null,
      "metadata": {
        "id": "qMUrINizDXY0",
        "outputId": "11c1d34d-54e4-4971-df7a-6f79ec8df41d"
      },
      "outputs": [
        {
          "name": "stdout",
          "output_type": "stream",
          "text": [
            "8.366600265340756\n",
            "11.180339887498949\n",
            "[[8.36660027]]\n",
            "[[11.18033989]]\n"
          ]
        }
      ],
      "source": [
        "#type your code here:\n",
        "print(np.linalg.norm(v1))\n",
        "print(np.linalg.norm(v2))\n",
        "print(np.sqrt(v1.T @ v1))\n",
        "print(np.sqrt(v2.T @ v2))\n"
      ]
    },
    {
      "cell_type": "markdown",
      "metadata": {
        "id": "THlRz7PrDXY1"
      },
      "source": [
        "d) Show that the vectors $u = \\begin{bmatrix} 3  \\\\ 2 \\\\ -1  \\\\ 4 \\\\ \\end{bmatrix}$ and $v = \\begin{bmatrix} 1  \\\\ -1 \\\\ 1  \\\\ 0 \\\\ \\end{bmatrix}$ are orthogonal.\n"
      ]
    },
    {
      "cell_type": "code",
      "execution_count": null,
      "metadata": {
        "id": "OChjeZhaDXY1",
        "outputId": "77e818dc-0979-4c1d-e850-9a66902b9064"
      },
      "outputs": [
        {
          "name": "stdout",
          "output_type": "stream",
          "text": [
            "[[32]]\n"
          ]
        }
      ],
      "source": [
        "#type your code here:\n",
        "u =np.array([ [3],[2],[-1],[4] ])\n",
        "v =np.array([[1],[-1],[1],[0]])\n",
        "print(u.T @ v)\n"
      ]
    },
    {
      "cell_type": "markdown",
      "metadata": {
        "id": "rFly-la5DXY1"
      },
      "source": [
        "# Question 3. Matrix Addition and Matrix-Vector Multiplication\n",
        "\n",
        "Declare vectors $u$ and $v$ and matrices $A$ and $B$ as following:\n",
        "- $u = \\begin{bmatrix} 2  \\\\ 7 \\\\ 2 \\\\ \\end{bmatrix}$, $v = \\begin{bmatrix} 8  \\\\ 2 \\\\ 4 \\\\ \\end{bmatrix}$\n",
        "- $A = \\begin{bmatrix} 7 & 3 & 5  \\\\ 4 & 6 & 2 \\\\ \\end{bmatrix}$, $B = \\begin{bmatrix} 0 & 6 & 4  \\\\ 2 & 3 & 0 \\\\ \\end{bmatrix}$\n",
        "\n",
        "a) Calculate the following using python.\n",
        "\n",
        "- $A+B$\n",
        "- $B+A$\n",
        "- $3A$\n",
        "- $6B$\n",
        "- $2(3B)$\n",
        "- $6A+15B$\n",
        "- $3(2A+5B)$\n",
        "- $(3A^T)^T$"
      ]
    },
    {
      "cell_type": "code",
      "execution_count": null,
      "metadata": {
        "id": "Mby2LlckDXY2",
        "outputId": "0a19345b-86aa-46aa-d00f-71fac80115c3"
      },
      "outputs": [
        {
          "name": "stdout",
          "output_type": "stream",
          "text": [
            "u =\n",
            " [[2]\n",
            " [7]\n",
            " [2]]\n",
            "\n",
            "v =\n",
            " [[8]\n",
            " [2]\n",
            " [4]]\n",
            "\n",
            "A =\n",
            " [[7 3 5]\n",
            " [4 6 2]]\n",
            "\n",
            "B =\n",
            " [[0 6 4]\n",
            " [2 3 0]]\n",
            "\n",
            "A + B =\n",
            " [[7 9 9]\n",
            " [6 9 2]]\n",
            "\n",
            "B + A =\n",
            " [[7 9 9]\n",
            " [6 9 2]]\n",
            "\n",
            "3A =\n",
            " [[21  9 15]\n",
            " [12 18  6]]\n",
            "\n",
            "6B =\n",
            " [[ 0 36 24]\n",
            " [12 18  0]]\n",
            "\n",
            "2(3B) =\n",
            " [[ 0 36 24]\n",
            " [12 18  0]]\n",
            "\n",
            "6A + 15B =\n",
            " [[ 42 108  90]\n",
            " [ 54  81  12]]\n",
            "\n",
            "3(2A + 5B) =\n",
            " [[ 42 108  90]\n",
            " [ 54  81  12]]\n",
            "\n",
            "\n",
            " (3A^T)^T = \n",
            " [[21  9 15]\n",
            " [12 18  6]]\n"
          ]
        }
      ],
      "source": [
        "#type your code here:\n",
        "A= np.array([[7,3,5],[4,6,2]])\n",
        "print(np.add(v1,v2))\n",
        "\n"
      ]
    },
    {
      "cell_type": "code",
      "execution_count": null,
      "metadata": {
        "id": "BlcykiUfDXY2",
        "outputId": "81698b97-0241-4763-e795-890e7e7f11c5"
      },
      "outputs": [
        {
          "name": "stdout",
          "output_type": "stream",
          "text": [
            "[[2]\n",
            " [7]\n",
            " [2]]\n",
            "[[8]\n",
            " [2]\n",
            " [4]]\n",
            "[[7 3 5]\n",
            " [4 6 2]]\n",
            "[[0 6 4]\n",
            " [2 3 0]]\n",
            "[[7 9 9]\n",
            " [6 9 2]]\n",
            "[[7 9 9]\n",
            " [6 9 2]]\n",
            "[[21  9 15]\n",
            " [12 18  6]]\n",
            "[[ 0 36 24]\n",
            " [12 18  0]]\n",
            "[[ 0 36 24]\n",
            " [12 18  0]]\n",
            "[[ 42 108  90]\n",
            " [ 54  81  12]]\n",
            "[[ 42 108  90]\n",
            " [ 54  81  12]]\n",
            "[[21  9 15]\n",
            " [12 18  6]]\n"
          ]
        }
      ],
      "source": [
        "u= np.array([[2],[7],[2]])\n",
        "v= np.array([[8],[2],[4]])\n",
        "\n",
        "A= np.array([[7,3,5],[4,6,2]])\n",
        "B= np.array([[0,6,4],[2,3,0]])\n",
        "print(u)\n",
        "print(v)\n",
        "print(A)\n",
        "print(B)\n",
        "print(A+B)\n",
        "print(B+A)\n",
        "print(np.dot(A,3))\n",
        "print(np.dot(B,6))\n",
        "print(np.dot(   np.dot(B,3),2)  )\n",
        "\n",
        "print(np.dot(A,6) + np.dot(B,15))\n",
        "print(np.dot(np.dot(A,2) + np.dot(B,5),3))\n",
        "print(np.dot(A.T,3).T)\n",
        "\n",
        "\n"
      ]
    },
    {
      "cell_type": "markdown",
      "metadata": {
        "id": "dgTAFy_6DXY2"
      },
      "source": [
        "b) To obtain the matrix-vector product $Au$ using python, type `A @ u`. Calculate the following:\n",
        "\n",
        "- $Au+Av$\n",
        "- $A(u+v)$\n",
        "- $(A+B)u$\n",
        "- $Au+Bu$\n",
        "- $A(3u)$\n",
        "- $3A(u)$"
      ]
    },
    {
      "cell_type": "code",
      "execution_count": null,
      "metadata": {
        "id": "o69BexLpDXY3",
        "outputId": "bb3dcd5e-9575-4cd3-fac6-cd5076d63e63"
      },
      "outputs": [
        {
          "name": "stdout",
          "output_type": "stream",
          "text": [
            "[[127]\n",
            " [106]]\n",
            "[[127]\n",
            " [106]]\n",
            "[[95]\n",
            " [79]]\n",
            "[[135]\n",
            " [162]]\n",
            "[[135]\n",
            " [162]]\n"
          ]
        }
      ],
      "source": [
        "print(A@u + A@v)\n",
        "\n",
        "print(A @(u +v))\n",
        "print((A +B)@ u)\n",
        "print(A @(3 *u))\n",
        "print(3*A @ u)"
      ]
    },
    {
      "cell_type": "code",
      "execution_count": null,
      "metadata": {
        "id": "6yg8BsQPDXY3",
        "outputId": "5c02e584-0112-4952-ed5e-30c0eec7eb5b"
      },
      "outputs": [
        {
          "name": "stdout",
          "output_type": "stream",
          "text": [
            "Au + Av =\n",
            " [[127]\n",
            " [106]]\n",
            "\n",
            "A(u + v) =\n",
            " [[127]\n",
            " [106]]\n",
            "\n",
            "(A + B)u =\n",
            " [[95]\n",
            " [79]]\n",
            "\n",
            "Au + Bu =\n",
            " [[95]\n",
            " [79]]\n",
            "\n",
            "A(3u) =\n",
            " [[135]\n",
            " [162]]\n",
            "\n",
            "3A(u) =\n",
            " [[135]\n",
            " [162]]\n",
            "\n"
          ]
        }
      ],
      "source": [
        "#type your code here:\n"
      ]
    },
    {
      "cell_type": "markdown",
      "metadata": {
        "id": "pzSyafyADXY3"
      },
      "source": [
        "# Question 4. Gaussian Elimination and Reduced Row-Echelon Form"
      ]
    },
    {
      "cell_type": "markdown",
      "metadata": {
        "id": "rdWqSHwYDXY3"
      },
      "source": [
        "You will see a step-by-step example of the row operations that transform a matrix $A$ into its reduced row echelon form $R = rref(A)$. In this demonstration, each pivot is chosen to be the largest in its column (for numerical stability), so extra row interchanges are used. Since $rref(A)$ is uniquely determined by $A$, this does not affect the final answer.\n",
        "\n",
        "The built in [rref](https://docs.sympy.org/latest/tutorial/matrices.html#rref) method `sympy.rref()` method just search for the method and its output to deal with the code."
      ]
    },
    {
      "cell_type": "markdown",
      "metadata": {
        "id": "NN9gHWvVDXY4"
      },
      "source": [
        "#### (a) Generate and display a $3 \\times 4$ matrix $A$ with random integer entries "
      ]
    },
    {
      "cell_type": "code",
      "execution_count": null,
      "metadata": {
        "id": "FBbaxRZ-DXY4",
        "outputId": "13986f9e-f7ce-43af-a7bc-9a0f7f72ad34"
      },
      "outputs": [
        {
          "name": "stdout",
          "output_type": "stream",
          "text": [
            "\n",
            " A = \n",
            " [[9. 8. 0. 6.]\n",
            " [5. 1. 3. 5.]\n",
            " [6. 8. 0. 6.]]\n"
          ]
        }
      ],
      "source": [
        "#type your code here:\n",
        "A = np.fix((10*(np.random.rand(3,4))))\n",
        "print(\"\\n A = \\n\", A)"
      ]
    },
    {
      "cell_type": "markdown",
      "metadata": {
        "id": "0O_FT4vsDXY4"
      },
      "source": [
        "- To transform $A$ into $R = rref(A)$, start with $R = A$.\n",
        "- Normalize the first row of R to get R(1st row, 1st column) = 1\n",
        "\n",
        "    - `R = A`\n",
        "    - `R[0,:] = R[0, :] / R[0, 0]`\n",
        "\n",
        "(note the use of the colon to operate on whole rows of the matrix). \n",
        "\n",
        "<div class=\"alert alert-block alert-warning\">If your random matrix happens to have A(1, 1) = 0, then interchange rows to get a nonzero entry in the (1, 1) position before doing the calculation above.</div>\n",
        "\n",
        "- Now subtract a multiple of the first row of R from the second row to make R(2, 1) = 0:\n",
        "\n",
        "    - `R[1, :] = R[1, :] - R[1, 0] * R[0, :]`\n",
        "\n",
        "- Repeat this procedure to make R(3, 1) = 0:\n",
        "\n",
        "    - `R[2, :] = R[2, :] - R[2, 0] * R[0, :]`\n",
        "\n",
        "The first column of your matrix $R$ should now be the same as the first column of $rref(A)$."
      ]
    },
    {
      "cell_type": "code",
      "execution_count": null,
      "metadata": {
        "id": "nu1J1-r3DXY4",
        "outputId": "3559b38b-d981-4400-eef1-9352676b7c3d"
      },
      "outputs": [
        {
          "name": "stdout",
          "output_type": "stream",
          "text": [
            "[[ 1.          0.88888889  0.          0.66666667]\n",
            " [ 0.         -3.44444444  3.          1.66666667]\n",
            " [ 0.          2.66666667  0.          2.        ]]\n"
          ]
        }
      ],
      "source": [
        "#type your code here:\n",
        "R = np.copy(A)\n",
        "R[0, :] = R[0, :] / R[0, 0]\n",
        "R[1, :] = R[1, :] - R[1, 0] * R[0, :]\n",
        "R[2, :] = R[2, :] - R[2, 0] * R[0, :]\n",
        "print(R)\n"
      ]
    },
    {
      "cell_type": "markdown",
      "metadata": {
        "id": "CTXbwtEUDXY5"
      },
      "source": [
        "#### (b)Operate on $R$ by the same method as in (a) to obtain the second column of $rref(A)$. First normalize row $2$ of $R$, then subtract multiples of row $2$ from rows $1$ and $3$ to put zeros in the (1, 2) and (3, 2) positions. Be sure to refer to the entries in your matrix symbolically as was done in part (a)"
      ]
    },
    {
      "cell_type": "code",
      "execution_count": null,
      "metadata": {
        "id": "NaAHPvvgDXY5",
        "outputId": "7cc33645-4819-4b35-a25e-a222f779018b"
      },
      "outputs": [
        {
          "name": "stdout",
          "output_type": "stream",
          "text": [
            "[[ 1.          0.          0.77419355  1.09677419]\n",
            " [-0.          1.         -0.87096774 -0.48387097]\n",
            " [ 0.          0.          2.32258065  3.29032258]]\n"
          ]
        }
      ],
      "source": [
        "#type your code here:\n",
        "R[1, :] = R[1, :] / R[1, 1]\n",
        "R[0, :] = R[0, :] - R[0, 1] * R[1, :]\n",
        "R[2, :] = R[2, :] - R[2, 1] * R[1, :]\n",
        "print(R)\n"
      ]
    },
    {
      "cell_type": "markdown",
      "metadata": {
        "id": "a-85gzjdDXY5"
      },
      "source": [
        "#### (c) Operate on $R$ by the same method as in (b) to obtain the third column of $rref(A)$. First normalize row $3$ of $R$, then subtract multiples of row $3$ from rows $1$ and $2$ to put zeros in the (1, 3) and (2, 3) positions."
      ]
    },
    {
      "cell_type": "code",
      "execution_count": null,
      "metadata": {
        "id": "jIQCoTF5DXY5",
        "outputId": "eb4d680d-1fbc-4f3f-db0a-717b63091ad4"
      },
      "outputs": [
        {
          "name": "stdout",
          "output_type": "stream",
          "text": [
            "[[ 1.00000000e+00  0.00000000e+00  0.00000000e+00 -2.22044605e-16]\n",
            " [ 0.00000000e+00  1.00000000e+00  0.00000000e+00  7.50000000e-01]\n",
            " [ 0.00000000e+00  0.00000000e+00  1.00000000e+00  1.41666667e+00]]\n"
          ]
        }
      ],
      "source": [
        "#type your code here:\n",
        "R[2, :] = R[2, :] / R[2, 2]\n",
        "R[0, :] = R[0, :] - R[0, 2] * R[2, :]\n",
        "R[1, :] = R[1, :] - R[1, 2] * R[2, :]\n",
        "print(R)\n",
        "\n"
      ]
    },
    {
      "cell_type": "markdown",
      "metadata": {
        "id": "J5XGHJBhDXY6"
      },
      "source": [
        "#### (d) Your matrix $R$ should now be transformed into $rref(A)$ (since $A$ is a random $3 \\times 4$ matrix, $rref(A)$ is (almost) sure to have rank (3) `np.linalg.matrix_rank(R)`. Check your answer by python with the rref method . If the answer is not the same as the current value of your $R$, go back and redo your calculations.\n",
        "\n",
        "- use the the built in rref method `sympy.rref()`\n",
        "- print the output matrix in numpy array type\n",
        "\n",
        "    - `M = sym.Matrix(A)`\n",
        "    - `M_rref = M.rref()`\n",
        "    - `R = np.array((M_rref[0])).astype(np.float64)`"
      ]
    },
    {
      "cell_type": "code",
      "execution_count": null,
      "metadata": {
        "id": "Cw9kw6UrDXY6",
        "outputId": "4378b8c1-aafe-4e51-9652-a636b03af6eb"
      },
      "outputs": [
        {
          "name": "stdout",
          "output_type": "stream",
          "text": [
            "Rank =  3\n",
            "solution:\n",
            " [[ 1.00000000e+00  0.00000000e+00  0.00000000e+00 -2.22044605e-16]\n",
            " [ 0.00000000e+00  1.00000000e+00  0.00000000e+00  7.50000000e-01]\n",
            " [ 0.00000000e+00  0.00000000e+00  1.00000000e+00  1.41666667e+00]]\n",
            "\n",
            "rref solution:\n",
            " [[1.         0.         0.         0.        ]\n",
            " [0.         1.         0.         0.75      ]\n",
            " [0.         0.         1.         1.41666667]]\n"
          ]
        }
      ],
      "source": [
        "#type your code here:\n",
        "print('Rank = ',np.linalg.matrix_rank(R))\n",
        "M = sym.Matrix(A)\n",
        "M_rref = M.rref()\n",
        "print('solution:\\n', R)\n",
        "R = np.array((M_rref[0])).astype(np.float64)\n",
        "print('\\nrref solution:\\n', R)\n",
        "\n",
        "# Use sympy.rref() method \n"
      ]
    },
    {
      "cell_type": "markdown",
      "metadata": {
        "id": "oPMaHLcZDXY6"
      },
      "source": [
        "# Question 5. Matrix Multiplication using Different views"
      ]
    },
    {
      "cell_type": "markdown",
      "metadata": {
        "id": "_J2wF1jZDXY6"
      },
      "source": [
        "we discussed in the lecture four different ways about product $AB = C$ where $A$ and $B$ are arbitry matrices. If $A$ is an $m \\times n$ matrix and $B$ is an $n \\times p$ matrix, then $C$ is an $m \\times p$ matrix:\n",
        "\n",
        "1. **Standard(row times column):** The standard way of describing a matrix product is to say that $c_(ij)$ equals the dot product of row $i$ of matrix $A$ and column $j$ of matrix $B$. \n",
        " \n",
        "2. **Columns:** The product of matrix $A$ and column $j$ of matrix $B$ equals column $j$ of matrix  $C$. This tells us that the columns of $C$ are combinations of columns of $A$.\n",
        "\n",
        "3. **Rows:** The product of row $i$ of matrix $A$ and matrix $B$ equals row $i$ of matrix $C$.So the rows of $C$ are combinations of rows of $B$.\n",
        "\n",
        "4. **Column times row**: A column of $A$ is an $m \\times 1$ vector and a row of $B$ is a $1 \\times p$ vector.Their product is a matrix."
      ]
    },
    {
      "cell_type": "markdown",
      "metadata": {
        "id": "-joz4BwaDXY6"
      },
      "source": [
        "In this problem we will use python to perform the matrix multiplication using these different ways, and compute the execution time for each method time.\n",
        "\n",
        "(Write your code as a function that perform the multiplication for arbitrary size of the matrices $A$ and $B$)"
      ]
    },
    {
      "cell_type": "code",
      "execution_count": null,
      "metadata": {
        "id": "yq_DWApDDXY6"
      },
      "outputs": [],
      "source": [
        "def check_dimension(A, B):\n",
        "    return A.shape[1] == B.shape[0]\n",
        "\n",
        "def mat_mul_standard(A, B):\n",
        "    if not check_dimension(A, B):\n",
        "        raise Exception('Dimensions aren\\'t consistant')\n",
        "        \n",
        "    m, n = A.shape\n",
        "    n, p = B.shape\n",
        "            \n",
        "    C = np.zeros((m, p))\n",
        "    ################type your code here#####################\n",
        "    for i in range(m):\n",
        "        for j in range(p):\n",
        "            C[i,j] =np.dot(  A[i,:],B[:,j] )\n",
        "\n",
        "    ########################################################        \n",
        "    return C\n",
        "\n",
        "\n",
        "def mat_mul_columns(A, B):\n",
        "    if not check_dimension(A, B):\n",
        "        raise Exception('Dimensions aren\\'t consistant')\n",
        "        \n",
        "    m, n = A.shape\n",
        "    n, p = B.shape\n",
        "            \n",
        "    C = np.zeros((m, p))\n",
        "    ################type your code here#####################\n",
        "    for j in range(p):\n",
        "        C[:,j] = np.dot(A,B[:,j])\n",
        "\n",
        "    ########################################################         \n",
        "    return C\n",
        "\n",
        "def mat_mul_rows(A, B):\n",
        "    if not check_dimension(A, B):\n",
        "        raise Exception('Dimensions aren\\'t consistant')\n",
        "        \n",
        "    m, n = A.shape\n",
        "    n, p = B.shape\n",
        "            \n",
        "    C = np.zeros((m, p))\n",
        "    ################type your code here#####################\n",
        "    for i in range(m):\n",
        "        C[i,:]= np.dot(A[i,:],B)\n",
        "\n",
        "    ########################################################         \n",
        "    return C\n",
        "\n",
        "\n",
        "\n",
        "def mat_mul_column_times_row(A, B):\n",
        "    if not check_dimension(A, B):\n",
        "        raise Exception('Dimensions aren\\'t consistant')\n",
        "        \n",
        "    m, n = A.shape\n",
        "    n, p = B.shape\n",
        "            \n",
        "    C = np.zeros((m, p))\n",
        "    ################type your code here#####################\n",
        "    for i in range(n):\n",
        "            C += np.dot(A[:,[i]],B[[i],:])\n",
        "\n",
        "    ########################################################         \n",
        "    return C"
      ]
    },
    {
      "cell_type": "code",
      "execution_count": null,
      "metadata": {
        "id": "EoxlYzNFDXY7"
      },
      "outputs": [],
      "source": [
        "#A = np.array([[12., 7., 3.],[4., 5., 6.],[7., 8., 9.]])\n",
        "#B = np.array([[5., 8., 1., 2.],[6., 7., 3., 0.],[4., 5., 9., 1.]])\n",
        "\n",
        "A = np.fix((10*(np.random.rand(300, 300))))\n",
        "B = np.fix((10*(np.random.rand(300, 300))))"
      ]
    },
    {
      "cell_type": "code",
      "execution_count": null,
      "metadata": {
        "id": "SenHRklyDXY7",
        "outputId": "635082db-d8c5-4922-b453-ff7b7151b656"
      },
      "outputs": [
        {
          "name": "stdout",
          "output_type": "stream",
          "text": [
            "A @ B = \n",
            " [[5941. 5771. 6303. ... 5937. 6429. 6205.]\n",
            " [5868. 5978. 6526. ... 6085. 6343. 6215.]\n",
            " [6018. 5865. 6222. ... 6319. 6152. 6146.]\n",
            " ...\n",
            " [5749. 5514. 6097. ... 5789. 5860. 6068.]\n",
            " [6334. 5927. 6296. ... 6337. 6376. 6360.]\n",
            " [5852. 5423. 6163. ... 6013. 6419. 6287.]]\n",
            "Wall time: 5.99 ms\n"
          ]
        }
      ],
      "source": [
        "%%time\n",
        "print('A @ B = \\n', A @ B)"
      ]
    },
    {
      "cell_type": "code",
      "execution_count": null,
      "metadata": {
        "id": "v0lUaNa0DXY7",
        "outputId": "75d47ee8-ba84-490f-c8f1-2fd0b09be99f"
      },
      "outputs": [
        {
          "name": "stdout",
          "output_type": "stream",
          "text": [
            "C_standard = \n",
            " [[5941. 5771. 6303. ... 5937. 6429. 6205.]\n",
            " [5868. 5978. 6526. ... 6085. 6343. 6215.]\n",
            " [6018. 5865. 6222. ... 6319. 6152. 6146.]\n",
            " ...\n",
            " [5749. 5514. 6097. ... 5789. 5860. 6068.]\n",
            " [6334. 5927. 6296. ... 6337. 6376. 6360.]\n",
            " [5852. 5423. 6163. ... 6013. 6419. 6287.]]\n",
            "Wall time: 369 ms\n"
          ]
        }
      ],
      "source": [
        "%%time\n",
        "C_standard = mat_mul_standard(A, B)\n",
        "print('C_standard = \\n', C_standard)"
      ]
    },
    {
      "cell_type": "code",
      "execution_count": null,
      "metadata": {
        "id": "Cwhl2QRsDXY7",
        "outputId": "72056b52-fb17-4b1d-d256-efd49effaec8"
      },
      "outputs": [
        {
          "name": "stdout",
          "output_type": "stream",
          "text": [
            "C_columns = \n",
            " [[5941. 5771. 6303. ... 5937. 6429. 6205.]\n",
            " [5868. 5978. 6526. ... 6085. 6343. 6215.]\n",
            " [6018. 5865. 6222. ... 6319. 6152. 6146.]\n",
            " ...\n",
            " [5749. 5514. 6097. ... 5789. 5860. 6068.]\n",
            " [6334. 5927. 6296. ... 6337. 6376. 6360.]\n",
            " [5852. 5423. 6163. ... 6013. 6419. 6287.]]\n",
            "Wall time: 18 ms\n"
          ]
        }
      ],
      "source": [
        "%%time\n",
        "C_columns = mat_mul_columns(A, B)\n",
        "print('C_columns = \\n', C_columns)"
      ]
    },
    {
      "cell_type": "code",
      "execution_count": null,
      "metadata": {
        "id": "SL134ib_DXY8",
        "outputId": "8661df0b-3235-40e7-f2c9-138a2cbc8295"
      },
      "outputs": [
        {
          "name": "stdout",
          "output_type": "stream",
          "text": [
            "C_rows = \n",
            " [[5941. 5771. 6303. ... 5937. 6429. 6205.]\n",
            " [5868. 5978. 6526. ... 6085. 6343. 6215.]\n",
            " [6018. 5865. 6222. ... 6319. 6152. 6146.]\n",
            " ...\n",
            " [5749. 5514. 6097. ... 5789. 5860. 6068.]\n",
            " [6334. 5927. 6296. ... 6337. 6376. 6360.]\n",
            " [5852. 5423. 6163. ... 6013. 6419. 6287.]]\n",
            "Wall time: 87.1 ms\n"
          ]
        }
      ],
      "source": [
        "%%time\n",
        "C_rows = mat_mul_rows(A, B)\n",
        "print('C_rows = \\n', C_rows)"
      ]
    },
    {
      "cell_type": "code",
      "execution_count": null,
      "metadata": {
        "id": "3MUGhKkODXY8",
        "outputId": "fc129a29-47bb-407f-cc79-4d6ebdb9a5bd"
      },
      "outputs": [
        {
          "name": "stdout",
          "output_type": "stream",
          "text": [
            "C_column_times_row = \n",
            " [[5941. 5771. 6303. ... 5937. 6429. 6205.]\n",
            " [5868. 5978. 6526. ... 6085. 6343. 6215.]\n",
            " [6018. 5865. 6222. ... 6319. 6152. 6146.]\n",
            " ...\n",
            " [5749. 5514. 6097. ... 5789. 5860. 6068.]\n",
            " [6334. 5927. 6296. ... 6337. 6376. 6360.]\n",
            " [5852. 5423. 6163. ... 6013. 6419. 6287.]]\n",
            "Wall time: 63.9 ms\n"
          ]
        }
      ],
      "source": [
        "%%time\n",
        "C_column_times_row = mat_mul_column_times_row(A, B)\n",
        "print('C_column_times_row = \\n', C_column_times_row)"
      ]
    },
    {
      "cell_type": "code",
      "execution_count": null,
      "metadata": {
        "id": "amXr681LDXY8"
      },
      "outputs": [],
      "source": [
        ""
      ]
    }
  ],
  "metadata": {
    "kernelspec": {
      "display_name": "Python 3 (ipykernel)",
      "language": "python",
      "name": "python3"
    },
    "language_info": {
      "codemirror_mode": {
        "name": "ipython",
        "version": 3
      },
      "file_extension": ".py",
      "mimetype": "text/x-python",
      "name": "python",
      "nbconvert_exporter": "python",
      "pygments_lexer": "ipython3",
      "version": "3.9.7"
    },
    "colab": {
      "name": "LA_ITI_PRO_Student_Lab_1 (1).ipynb",
      "provenance": [],
      "include_colab_link": true
    }
  },
  "nbformat": 4,
  "nbformat_minor": 0
}