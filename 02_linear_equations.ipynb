{
  "cells": [
    {
      "cell_type": "markdown",
      "metadata": {
        "id": "view-in-github",
        "colab_type": "text"
      },
      "source": [
        "<a href=\"https://colab.research.google.com/github/Yassmina-Abdo/linear-algebra/blob/main/02_linear_equations.ipynb\" target=\"_parent\"><img src=\"https://colab.research.google.com/assets/colab-badge.svg\" alt=\"Open In Colab\"/></a>"
      ]
    },
    {
      "cell_type": "markdown",
      "metadata": {
        "id": "f4hMoWI6Eu3L"
      },
      "source": [
        "# LAB 2: Linear Equations and Matrix Algebra\n",
        "\n",
        "In this lab you will use python to study the following topics:\n",
        "\n",
        "- Solving a system of linear equations by using the reduced row echelon form of the augmented matrix of the system.\n",
        "\n",
        "- Forming linear combinations of a set of vectors and the fundamental concepts of linear independence.\n",
        "\n",
        "- Matrix multiplication and its properties."
      ]
    },
    {
      "cell_type": "markdown",
      "metadata": {
        "id": "W3278z06Eu3S"
      },
      "source": [
        "# First: you should run this cell"
      ]
    },
    {
      "cell_type": "code",
      "execution_count": null,
      "metadata": {
        "id": "A70k5HTrEu3T"
      },
      "outputs": [],
      "source": [
        "# Make all numpy available via shorter 'np' prefix\n",
        "import numpy as np\n",
        "# Make all sympy available via shorter 'sym' prefix\n",
        "import sympy as sym\n",
        "\n",
        "\n",
        "# matplotlib library\n",
        "import matplotlib.pyplot as plt\n",
        "from matplotlib import cm\n",
        "from matplotlib.ticker import LinearLocator\n",
        "\n",
        "\n",
        "def rvect(m):\n",
        "    return np.fix((10 * (np.random.rand(m, 1))))\n",
        "\n",
        "\n",
        "def rmat(m, n):\n",
        "    return np.fix((10 * (np.random.rand(m, n))))\n",
        "\n",
        "\n",
        "def rref(A):\n",
        "    return np.array(sym.Matrix(A).rref(iszerofunc=lambda x:sym.comp(x,0,1e-13))[0], np.float64)\n",
        "\n",
        "\n",
        "def nulbasis(A):\n",
        "    A = sym.Matrix(A)\n",
        "    tmp =  A.nullspace()\n",
        "    n = len(tmp)\n",
        "    m = len(tmp[0])\n",
        "    N = np.zeros((m,n))\n",
        "    for i in range(m):\n",
        "        for j in range(n):\n",
        "                N[i,j] = tmp[j][i] \n",
        "    return N"
      ]
    },
    {
      "cell_type": "markdown",
      "metadata": {
        "id": "KaCzj_5JEu3W"
      },
      "source": [
        "# Question 1. Solving Ax = b"
      ]
    },
    {
      "cell_type": "markdown",
      "metadata": {
        "id": "usiOqBWKEu3X"
      },
      "source": [
        "In this question you will find the general solution $x \\in R^3$ to a linear system $Ax = b$ of 3 equations in 5\n",
        "variables $x_1, x_2, x_3, x_4, x_5$. Here $A$ is the $3 \\times 5$ coeffient matrix system $b \\in R^3$ is the given right-hand side of the system"
      ]
    },
    {
      "cell_type": "markdown",
      "metadata": {
        "id": "D-hRhDblEu3X"
      },
      "source": [
        "<h4> \n",
        "    (a) Use rmat function that was defined in the first cell to generate a random $3 \\times5$ integer matrix $A$ and to check that columns 1, 2, 3 of $A$ are the pivot columns.\n",
        "</h4>\n",
        "\n",
        "- `A = rmat(3, 5)`\n",
        "- `np.linalg.matrix_rank(A[:, 0:3])`\n"
      ]
    },
    {
      "cell_type": "code",
      "execution_count": null,
      "metadata": {
        "id": "_drJom5BEu3Y",
        "outputId": "56560c45-489c-46cc-94bc-323c5c27a21a"
      },
      "outputs": [
        {
          "name": "stdout",
          "output_type": "stream",
          "text": [
            "[[0. 3. 1. 4. 1.]\n",
            " [6. 9. 4. 0. 2.]\n",
            " [1. 6. 4. 4. 3.]]\n",
            "3\n"
          ]
        }
      ],
      "source": [
        "A= rmat(3,5)\n",
        "rank = np.linalg.matrix_rank(A[:,0:3])\n",
        "print(A)\n",
        "print(rank)\n"
      ]
    },
    {
      "cell_type": "markdown",
      "metadata": {
        "id": "9OVxBXSSEu3Z"
      },
      "source": [
        "Note the use of the colon operator to select columns 1, 2, 3 of $A$. If the rank is less than 3, generate a new A\n",
        "(this is unlikely, but it can happen). Include all the matrices that you generate this way in your lab report.\n",
        "<h4>\n",
        "When you have an $A$ for which the rank of the first three columns is 3:\n",
        "</h4>\n",
        "\n",
        "- Generate a random vector $b \\in R^3$\n",
        "\n",
        "- The reduced row echelon form R of the augmented matrix $\\begin{bmatrix} A & b   \\end{bmatrix}$:\n"
      ]
    },
    {
      "cell_type": "code",
      "execution_count": null,
      "metadata": {
        "id": "a2isgh8qEu3a",
        "outputId": "2ccbe329-759a-41c1-949f-102552dc6fc4"
      },
      "outputs": [
        {
          "name": "stdout",
          "output_type": "stream",
          "text": [
            "-----b=--------\n",
            "[[4.]\n",
            " [7.]\n",
            " [7.]]\n",
            "-----aug mat--------\n",
            "[[0. 3. 1. 4. 1. 4.]\n",
            " [6. 9. 4. 0. 2. 7.]\n",
            " [1. 6. 4. 4. 3. 7.]]\n",
            "-----(R)= --------\n",
            "[[ 1.          0.          0.         -1.81818182 -0.27272727 -0.81818182]\n",
            " [ 0.          1.          0.          1.6969697   0.12121212  1.36363636]\n",
            " [ 0.          0.          1.         -1.09090909  0.63636364 -0.09090909]]\n"
          ]
        }
      ],
      "source": [
        "b= rvect(3)\n",
        "print('-----b=--------')\n",
        "print(b)\n",
        "\n",
        "aug_mat =np.column_stack((A, b))\n",
        "print('-----aug mat--------')\n",
        "print(aug_mat)\n",
        "\n",
        "R =rref(aug_mat)\n",
        "print('-----(R)= --------')\n",
        "print(R)"
      ]
    },
    {
      "cell_type": "markdown",
      "metadata": {
        "id": "2kTdS6ieEu3b"
      },
      "source": [
        "<h4>\n",
        "     To get the reduced row echelon form S = rref(A) just remove the last column from R:\n",
        "</h4>\n",
        "\n",
        "- `S = R[:, :-1] or R[:, 0:5]`\n"
      ]
    },
    {
      "cell_type": "code",
      "execution_count": null,
      "metadata": {
        "id": "h5toAPdHEu3c",
        "outputId": "c1ace213-0bc1-436e-f01d-73d38b95f7c3"
      },
      "outputs": [
        {
          "name": "stdout",
          "output_type": "stream",
          "text": [
            "----------S------\n",
            "[[ 1.          0.          0.         -1.81818182 -0.27272727]\n",
            " [ 0.          1.          0.          1.6969697   0.12121212]\n",
            " [ 0.          0.          1.         -1.09090909  0.63636364]]\n"
          ]
        }
      ],
      "source": [
        "S =R[:,:-1]\n",
        "print('----------S------')\n",
        "print(S)"
      ]
    },
    {
      "cell_type": "markdown",
      "metadata": {
        "id": "8G9G7ME3Eu3c"
      },
      "source": [
        "(Note the use of the colon operator to select columns 1 to 5 of R).\n",
        "<h4>Check by python that S = rref(A)</h4>"
      ]
    },
    {
      "cell_type": "code",
      "execution_count": null,
      "metadata": {
        "id": "DQEAB0nIEu3c",
        "outputId": "a8854390-136e-426c-a525-08f27cf47cac"
      },
      "outputs": [
        {
          "name": "stdout",
          "output_type": "stream",
          "text": [
            "------RRer(A)-------\n",
            "[[ 1.          0.          0.         -1.81818182 -0.27272727]\n",
            " [ 0.          1.          0.          1.6969697   0.12121212]\n",
            " [ 0.          0.          1.         -1.09090909  0.63636364]]\n",
            "------S-------\n",
            "[[ 1.          0.          0.         -1.81818182 -0.27272727]\n",
            " [ 0.          1.          0.          1.6969697   0.12121212]\n",
            " [ 0.          0.          1.         -1.09090909  0.63636364]]\n"
          ]
        }
      ],
      "source": [
        "rref_A =rref(A)\n",
        "print('------RRer(A)-------')\n",
        "print(rref_A)\n",
        "print('------S-------')\n",
        "print(S)"
      ]
    },
    {
      "cell_type": "markdown",
      "metadata": {
        "id": "WtnOy9VrEu3d"
      },
      "source": [
        "#### then write answers to the following:\n",
        "\n",
        "\n",
        "1. Which columns of $S$ are the pivot columns?\n",
        "2. What is the rank of $R$ and the rank of $A$?\n",
        "3. What is the nullity of $A$ and which variables $x_i$ are be the free variables?\n",
        "4. Why does the equation $Ax = b$ have a solution?\n",
        "\n"
      ]
    },
    {
      "cell_type": "markdown",
      "metadata": {
        "id": "l6fu5MMZEu3d"
      },
      "source": [
        "### -------------------------------------Type your answer here------------------------------------------------------------ ###\n",
        "1. col 1,2,3 are pivot cols\n",
        "2. Rank of R = 3\n",
        "3. Nullity = 2 --> x4,x5\n",
        "4. Because b is belong to space A ,and there is 5 var in 3 equations so we have finite number of solutions\n",
        "\n",
        "\n",
        "### ---------------------------------------------------------------------------------------------------------------------------------- ###"
      ]
    },
    {
      "cell_type": "markdown",
      "metadata": {
        "id": "9B3mNu0JEu3d"
      },
      "source": [
        "#### Print the rank of A, R, and S matrices"
      ]
    },
    {
      "cell_type": "code",
      "execution_count": null,
      "metadata": {
        "id": "WU1UGkDhEu3e",
        "outputId": "f5984ce5-4d27-4b44-fac8-b96e19651609"
      },
      "outputs": [
        {
          "name": "stdout",
          "output_type": "stream",
          "text": [
            "3\n",
            "3\n",
            "3\n"
          ]
        }
      ],
      "source": [
        "print( np.linalg.matrix_rank(A))\n",
        "print( np.linalg.matrix_rank(R))\n",
        "print( np.linalg.matrix_rank(S))"
      ]
    },
    {
      "cell_type": "markdown",
      "metadata": {
        "id": "l2hjnIALEu3e"
      },
      "source": [
        "#### (b) Use python to obtain (the last column of $R$), `c = R[:, [-1]]`. set `x = np.block([[c], [0], [0]])`. $x \\in R^5$ and the last two components of $x$ are zeros. then:\n",
        "\n",
        "\n",
        "1. Calculate by python that $Ax - b = 0$ and $Sx - c = 0$.  (i)</li>\n",
        "2. Use properties of row reduction to explain why the equations in (i) are true.\n",
        "\n",
        "\n"
      ]
    },
    {
      "cell_type": "markdown",
      "metadata": {
        "id": "fNrgj_kmEu3e"
      },
      "source": [
        "### -------------------------------------Type your answer here------------------------------------------------------------ ###\n",
        "\n",
        "if we multiple matrix A by matrix x then we have a result vector b \n",
        "and same when multiple the reduced echelon form of A by c vector which a part of rref for the aug matrix \n",
        "so the result of operations will be a same\n",
        "\n",
        "### ---------------------------------------------------------------------------------------------------------------------------------- ###"
      ]
    },
    {
      "cell_type": "code",
      "execution_count": null,
      "metadata": {
        "id": "H5qh1noGEu3e",
        "outputId": "ad7d443a-eac1-446a-dea1-d91995adba66"
      },
      "outputs": [
        {
          "name": "stdout",
          "output_type": "stream",
          "text": [
            "---------c----------\n",
            "[[-0.81818182]\n",
            " [ 1.36363636]\n",
            " [-0.09090909]]\n",
            "---------x----------\n",
            "[[-0.81818182]\n",
            " [ 1.36363636]\n",
            " [-0.09090909]\n",
            " [ 0.        ]\n",
            " [ 0.        ]]\n",
            "---------Ax-b----------\n",
            "[[ 0.0000000e+00]\n",
            " [-8.8817842e-16]\n",
            " [ 0.0000000e+00]]\n",
            "---------Sx-c----------\n",
            "[[0.]\n",
            " [0.]\n",
            " [0.]]\n"
          ]
        }
      ],
      "source": [
        "c=R[:,[-1]]\n",
        "print('---------c----------')\n",
        "print(c)\n",
        "\n",
        "x= np.block([[c], [0], [0]])\n",
        "print('---------x----------')\n",
        "print(x)\n",
        "\n",
        "print('---------Ax-b----------')\n",
        "print(A @x-b)\n",
        "\n",
        "print('---------Sx-c----------')\n",
        "print(S @x-c)\n"
      ]
    },
    {
      "cell_type": "markdown",
      "metadata": {
        "id": "goxchVIAEu3f"
      },
      "source": [
        "#### (c) Use python to calculate\n",
        "\n",
        "- `u = np.block([[-S[:, [3]]], [1], [0]])`\n",
        "- `v = np.block([[-S[:, [4]]], [0], [1]])`\n",
        "\n",
        "\n",
        "1. Give a handwritten explanation, using symbols and linear algebra, rather than numbers, to show why u and v are the vectors that appear in the vector form of the general solution to Ax = 0.\n",
        "    - Confirm by calculating `S @ u`, `A @ u`, `S @ v`, `A @ v`. You should get vectors that are (approximately) zero.\n",
        "    - Now generate a random linear combination of u and v by the commands `s = np.random.rand(1)`, `t = np.random.rand(1)`, and `y = s * u + t * v` (Note that each occurrence of np.random.rand(1) generates a different random coefficient).\n",
        "\n",
        "2. What properties of matrix and vector algebra ensure that Ay = 0?\n",
        "    - Confirm by a python calculation that `A @ y` is approximately zero. \n",
        "\n",
        "\n",
        "\n",
        "\n",
        "\n"
      ]
    },
    {
      "cell_type": "markdown",
      "metadata": {
        "id": "s8LMA0HyEu3f"
      },
      "source": [
        "### -------------------------------------Type your answer here------------------------------------------------------------ ###\n",
        "\n",
        "two vectors in space the linear combination of same vector in same space so--> `Ay = 0`\n",
        "\n",
        "\n",
        "### ---------------------------------------------------------------------------------------------------------------------------------- ###"
      ]
    },
    {
      "cell_type": "code",
      "execution_count": null,
      "metadata": {
        "id": "Y61aDzn0Eu3f",
        "outputId": "2492368f-b1f0-4232-f616-574196b0b4d9"
      },
      "outputs": [
        {
          "name": "stdout",
          "output_type": "stream",
          "text": [
            "--------u--------\n",
            "[[ 1.81818182]\n",
            " [-1.6969697 ]\n",
            " [ 1.09090909]\n",
            " [ 1.        ]\n",
            " [ 0.        ]]\n",
            "--------v--------\n",
            "[[ 0.27272727]\n",
            " [-0.12121212]\n",
            " [-0.63636364]\n",
            " [ 0.        ]\n",
            " [ 1.        ]]\n",
            "--------S @ u--------\n",
            "[[0.]\n",
            " [0.]\n",
            " [0.]]\n",
            "--------A @ u--------\n",
            "[[ 0.00000000e+00]\n",
            " [-1.77635684e-15]\n",
            " [ 0.00000000e+00]]\n",
            "--------S @ v--------\n",
            "[[0.]\n",
            " [0.]\n",
            " [0.]]\n",
            "--------A @ v--------\n",
            "[[0.00000000e+00]\n",
            " [0.00000000e+00]\n",
            " [2.22044605e-16]]\n",
            "--------A @ y--------\n",
            "[[4.4408921e-16]\n",
            " [0.0000000e+00]\n",
            " [8.8817842e-16]]\n"
          ]
        }
      ],
      "source": [
        "u = np.block([[-S[:, [3]]], [1], [0]])\n",
        "v = np.block([[-S[:, [4]]], [0], [1]])\n",
        "print('--------u--------')\n",
        "print(u)\n",
        "print('--------v--------')\n",
        "print(v)\n",
        "print('--------S @ u--------')\n",
        "print(S @ u)\n",
        "print('--------A @ u--------')\n",
        "print(A @ u)\n",
        "print('--------S @ v--------')\n",
        "print(S @ v)\n",
        "print('--------A @ v--------')\n",
        "print(A @ v)\n",
        "s = np.random.rand(1)\n",
        "t = np.random.rand(1)\n",
        "y = s * u + t * v\n",
        "print('--------A @ y--------')\n",
        "print(A @ y)\n"
      ]
    },
    {
      "cell_type": "markdown",
      "metadata": {
        "id": "qXp2TJ6fEu3g"
      },
      "source": [
        "#### (d) Use python to calculate `z = x + y` .\n",
        "- What properties of matrix and vector algebra imply that $Az = b$?\n",
        "- Confirm by a python calculation that `A @ z - b` is approximately zero."
      ]
    },
    {
      "cell_type": "markdown",
      "metadata": {
        "id": "Wfa4Bez4Eu3g"
      },
      "source": [
        "### -------------------------------------Type your answer here------------------------------------------------------------ ###\n",
        "\n",
        "if `z = x + y` so --> `Az = Ax + Ay` \n",
        "- `Ax = b` and `Ay = 0` \n",
        "so `Az = b`\n",
        "\n",
        "### ---------------------------------------------------------------------------------------------------------------------------------- ###"
      ]
    },
    {
      "cell_type": "code",
      "execution_count": null,
      "metadata": {
        "id": "-2sjCqY5Eu3g",
        "outputId": "046eb927-914a-495c-9b2c-7839e97a9af4"
      },
      "outputs": [
        {
          "name": "stdout",
          "output_type": "stream",
          "text": [
            "--------- Az-b------------\n",
            "[[ 0.00000000e+00]\n",
            " [-1.77635684e-15]\n",
            " [ 0.00000000e+00]]\n"
          ]
        }
      ],
      "source": [
        "print('--------- Az-b------------')\n",
        "z =x+y\n",
        "print(A @ z -b)"
      ]
    },
    {
      "cell_type": "markdown",
      "metadata": {
        "id": "nkQ3ySZYEu3g"
      },
      "source": [
        "# Question 2. Spanning Sets and Linear Independence"
      ]
    },
    {
      "cell_type": "markdown",
      "metadata": {
        "id": "uL8VF_oGEu3g"
      },
      "source": [
        "#### Generate four random vectors in R3 by the command\n",
        "- `u1 = rvect(3)`\n",
        "- `u2 = rvect(3)`\n",
        "- `u3 = rvect(3)`\n",
        "- `u4 = rvect(3)`\n",
        "\n",
        "\n",
        "\n",
        "\n",
        "#### (a) Consider the set of vectors S = {u1, u2, u3}. To determine whether S is linearly independent, form the matrix A with the vectors from S as columns and calculate its reduced row echelon form\n",
        "- `A = np.block([u1, u2, u3])`\n",
        "- `rref(A)`\n",
        "\n",
        "#### Use these calculations to answer the following questions:\n",
        "\n",
        "1. How many free variables does the equation Ax = 0 have?\n",
        "\n",
        "2. Is the set S linearly independent or linearly dependent? Why?"
      ]
    },
    {
      "cell_type": "markdown",
      "metadata": {
        "id": "UtRLSvgEEu3g"
      },
      "source": [
        "### -------------------------------------Type your answer here------------------------------------------------------------ ###\n",
        "\n",
        "1. there is no free variable\n",
        "2. Independent, because there is no linear combination\n",
        "\n",
        "\n",
        "### ---------------------------------------------------------------------------------------------------------------------------------- ###"
      ]
    },
    {
      "cell_type": "code",
      "execution_count": null,
      "metadata": {
        "id": "m8JInGDgEu3h",
        "outputId": "9de9d81f-de3a-484f-9d8d-497f869dc75c"
      },
      "outputs": [
        {
          "name": "stdout",
          "output_type": "stream",
          "text": [
            "-------A--------------\n",
            "[[6. 4. 2.]\n",
            " [1. 8. 5.]\n",
            " [1. 2. 2.]]\n",
            "-------rref(A)--------------\n",
            "[[1. 0. 0.]\n",
            " [0. 1. 0.]\n",
            " [0. 0. 1.]]\n"
          ]
        }
      ],
      "source": [
        "u1 = rvect(3)\n",
        "u2 = rvect(3)\n",
        "u3 = rvect(3)\n",
        "u4 = rvect(3)\n",
        "A = np.block([u1, u2, u3])\n",
        "rref(A)\n",
        "print('-------A--------------')\n",
        "print(A)\n",
        "print('-------rref(A)--------------')\n",
        "print(rref(A))"
      ]
    },
    {
      "cell_type": "markdown",
      "metadata": {
        "id": "SEnwghbEEu3h"
      },
      "source": [
        "#### (b) Consider the set of vectors T = {u1, u2, u3, u4}. To determine whether T is linearly independent, form the matrix B with the vectors from T as columns and calculate its reduced row echelon form:\n",
        "\n",
        "- `B = [u1 u2 u3 u4]`\n",
        "- `rref(B)`\n",
        "\n",
        "#### Use these calculations to answer the following questions:\n",
        "\n",
        "1. How many free variables does the equation $Bx = 0$ have?\n",
        "\n",
        "2. Is the set T linearly independent or linearly dependent?"
      ]
    },
    {
      "cell_type": "markdown",
      "metadata": {
        "id": "CJ0iIqBtEu3h"
      },
      "source": [
        "### -------------------------------------Type your answer here------------------------------------------------------------ ###\n",
        "\n",
        "1. we have 1 free variable --> X4\n",
        "2. Dependent because we have free variable\n",
        "\n",
        "\n",
        "### ---------------------------------------------------------------------------------------------------------------------------------- ###"
      ]
    },
    {
      "cell_type": "code",
      "execution_count": null,
      "metadata": {
        "id": "nML4bxKFEu3h",
        "outputId": "073ad3d4-48e8-4032-acb5-7046fb460941"
      },
      "outputs": [
        {
          "name": "stdout",
          "output_type": "stream",
          "text": [
            "-------B--------------\n",
            "[[6. 4. 2. 8.]\n",
            " [1. 8. 5. 7.]\n",
            " [1. 2. 2. 2.]]\n",
            "-------rref(B)--------------\n",
            "[[ 1.          0.          0.          0.77777778]\n",
            " [ 0.          1.          0.          1.05555556]\n",
            " [ 0.          0.          1.         -0.44444444]]\n"
          ]
        }
      ],
      "source": [
        "B = np.block([u1, u2 ,u3 ,u4])\n",
        "print('-------B--------------')\n",
        "print(B)\n",
        "print('-------rref(B)--------------')\n",
        "print(rref(B))"
      ]
    },
    {
      "cell_type": "markdown",
      "metadata": {
        "id": "aitpT7EVEu3h"
      },
      "source": [
        "#### (c) Let v be a random linear combination of u1 and u2:\n",
        "\n",
        "- `v = np.random.rand(1) * u1 + np.random.rand(1) * u2`\n",
        "\n",
        "#### Thus v is of the form c1u1 + c2u2 for some scalars c1, c2. Consider the set of vectors U = {u1, u2, v}.\n",
        "\n",
        "1. Is the set U linearly independent or linearly dependent?\n",
        "2. Answer first without calculation using the definition of linear independent sets.\n",
        "\n"
      ]
    },
    {
      "cell_type": "markdown",
      "metadata": {
        "id": "d2T40TvyEu3i"
      },
      "source": [
        "### -------------------------------------Type your answer here------------------------------------------------------------ ###\n",
        "\n",
        "Dependent\n",
        "because we have linear compination and also not full ranked\n",
        "\n",
        "\n",
        "### ---------------------------------------------------------------------------------------------------------------------------------- ###"
      ]
    },
    {
      "cell_type": "code",
      "execution_count": null,
      "metadata": {
        "id": "jrZ023koEu3i",
        "outputId": "4cb7cce9-bdae-4768-9dd4-af9cf2b1255a"
      },
      "outputs": [
        {
          "name": "stdout",
          "output_type": "stream",
          "text": [
            "-------U--------------\n",
            "[[6.         4.         7.92700324]\n",
            " [1.         8.         6.66945754]\n",
            " [1.         2.         2.29358363]]\n",
            "-------rref(U)--------------\n",
            "[[1.         0.         0.834959  ]\n",
            " [0.         1.         0.72931232]\n",
            " [0.         0.         0.        ]]\n"
          ]
        }
      ],
      "source": [
        "v = np.random.rand(1) * u1 + np.random.rand(1) * u2\n",
        "U=np.block([u1,u2,v])\n",
        "print('-------U--------------')\n",
        "print(U)\n",
        "print('-------rref(U)--------------')\n",
        "print(rref(U))\n"
      ]
    },
    {
      "cell_type": "markdown",
      "metadata": {
        "id": "BfHru_-aEu3i"
      },
      "source": [
        "#### Check your answer by python using the method of part (a)."
      ]
    },
    {
      "cell_type": "markdown",
      "metadata": {
        "id": "Sg4mf82DEu3i"
      },
      "source": [
        "# Question 3 :Visualizing the Column Space"
      ]
    },
    {
      "cell_type": "markdown",
      "metadata": {
        "id": "1UC-eQvEEu3i"
      },
      "source": [
        "In this question you will determine visually whether given vectors lie in the column space of a matrix.\n",
        "Random Seed: Initialize the random number generator by typing\n",
        "rand(’seed’, abcd)\n",
        "where abcd are the last four digits of your student ID number. This will ensure that you generate your own\n",
        "particular random vectors and matrices.\n",
        "\n",
        "#### Now generate a random $3 \\times 2$ integer matrix $A$ by the python and calculate rank(A). Since $A$ is a random matrix, the rank is very likely to be 2. If the rank is not 2, generate another A. Repeat the test until you get a matrix with rank 2.\n",
        "\n",
        "- `A = rmat(3, 2)`\n",
        "- `np.linalg.matrix_rank(A)`\n"
      ]
    },
    {
      "cell_type": "code",
      "execution_count": null,
      "metadata": {
        "id": "5HtebpYmEu3i",
        "outputId": "a28bf9a9-94e5-4241-a28d-8f9f12f695a8"
      },
      "outputs": [
        {
          "name": "stdout",
          "output_type": "stream",
          "text": [
            "-------------A----------\n",
            "[[4. 0.]\n",
            " [2. 5.]\n",
            " [5. 6.]]\n",
            "--------Rank(A)--------------\n",
            "2\n"
          ]
        }
      ],
      "source": [
        "A = rmat(3, 2)\n",
        "print('-------------A----------')\n",
        "print(A)\n",
        "print('--------Rank(A)--------------')\n",
        "print(np.linalg.matrix_rank(A))"
      ]
    },
    {
      "cell_type": "markdown",
      "metadata": {
        "id": "ZirjTXCVEu3j"
      },
      "source": [
        "#### Use this matrix in the rest of the question. If you need to generate more than one matrix, include all the matrices you generate in your lab report.\n",
        "\n",
        "#### (a) Define `u = A[:,[0]]`, `v = A[:,[1]]` to be the column vectors for A. To graph the column space Col(A) of A, enter the python commands:\n",
        "- `s, t = np.meshgrid(np.arange(-1, 1, 0.1), np.arange(-1, 1, 0.1))`\n",
        "- `X = s * u[0] + t * v[0]`\n",
        "- `Y = s * u[1] + t * v[1]`\n",
        "- `Z = s * u[2] + t * v[2]`\n",
        "- Use matplotlib to graph the cloumn space using `plot_surface` as in this [example](https://matplotlib.org/gallery/mplot3d/surface3d.html#sphx-glr-gallery-mplot3d-surface3d-py)\n",
        "- Set graph axis limit -10, 10.\n",
        "- Set the color map of the graph to `cm.hot`."
      ]
    },
    {
      "cell_type": "code",
      "execution_count": null,
      "metadata": {
        "id": "Z7OCqVIyEu3j",
        "outputId": "fabd6a0c-a1bd-4c49-8105-cdf5af22e32a"
      },
      "outputs": [
        {
          "name": "stdout",
          "output_type": "stream",
          "text": [
            "-------------u----------\n",
            "[[5.]\n",
            " [7.]\n",
            " [1.]]\n",
            "-------------v----------\n",
            "[[1.]\n",
            " [7.]\n",
            " [6.]]\n"
          ]
        },
        {
          "data": {
            "image/png": "[encoded data removed]",
            "text/plain": [
              "<Figure size 432x288 with 2 Axes>"
            ]
          },
          "metadata": {
            "needs_background": "light"
          },
          "output_type": "display_data"
        }
      ],
      "source": [
        "u = A[:,[0]]\n",
        "v = A[:,[1]]\n",
        "print('-------------u----------')\n",
        "print(u)\n",
        "print('-------------v----------')\n",
        "print(v)\n",
        "\n",
        "s, t = np.meshgrid(np.arange(-1, 1, 0.1), np.arange(-1, 1, 0.1))\n",
        "X = s * u[0] + t * v[0]\n",
        "Y = s * u[1] + t * v[1]\n",
        "Z = s * u[2] + t * v[2]\n",
        "\n",
        "# Plot the surface.\n",
        "import matplotlib.pyplot as plt\n",
        "from matplotlib import cm\n",
        "\n",
        "fig, ax = plt.subplots(subplot_kw={\"projection\": \"3d\"})\n",
        "surf = ax.plot_surface(X, Y, Z, cmap=cm.hot,\n",
        "                       linewidth=0, antialiased=False)\n",
        "ax.set_xlim3d(-15, 10)\n",
        "ax.set_ylim3d(-10, 10)\n",
        "ax.set_zlim3d(-15, 15)\n",
        "fig.colorbar(surf, shrink=0.5, aspect=5)\n",
        "\n",
        "plt.show()\n"
      ]
    },
    {
      "cell_type": "code",
      "execution_count": null,
      "metadata": {
        "id": "NaL3h4lYEu3j",
        "outputId": "50babd33-c5fb-44e3-e4c9-80eb61acd7fa"
      },
      "outputs": [
        {
          "name": "stdout",
          "output_type": "stream",
          "text": [
            "------------u-------------\n",
            "[[7.]\n",
            " [5.]\n",
            " [3.]]\n",
            "--------------------------\n",
            "------------v-------------\n",
            "[[8.]\n",
            " [6.]\n",
            " [8.]]\n",
            "--------------------------\n"
          ]
        },
        {
          "name": "stderr",
          "output_type": "stream",
          "text": [
            "C:\\Users\\OMARME~1\\AppData\\Local\\Temp/ipykernel_23816/3205482725.py:15: MatplotlibDeprecationWarning: Calling gca() with keyword arguments was deprecated in Matplotlib 3.4. Starting two minor releases later, gca() will take no keyword arguments. The gca() function should only be used to get the current axes, or if no axes exist, create new axes with default keyword arguments. To create a new axes with non-default arguments, use plt.axes() or plt.subplot().\n",
            "  ax = fig.gca(projection='3d')\n"
          ]
        },
        {
          "data": {
            "image/png": "[encoded data removed]",
            "text/plain": [
              "<Figure size 432x288 with 2 Axes>"
            ]
          },
          "metadata": {
            "needs_background": "light"
          },
          "output_type": "display_data"
        }
      ],
      "source": [
        "#type your code here\n"
      ]
    },
    {
      "cell_type": "markdown",
      "metadata": {
        "id": "1ZtwTBnDEu3j"
      },
      "source": [
        "#### (b) Generate a random vector in R3 using the `rvect` function\n",
        "- b = rvect(3)"
      ]
    },
    {
      "cell_type": "code",
      "execution_count": null,
      "metadata": {
        "id": "P7tD9F5XEu3j",
        "outputId": "d04005b7-d159-4637-8650-33116c1a1f9c"
      },
      "outputs": [
        {
          "name": "stdout",
          "output_type": "stream",
          "text": [
            "--------b--------\n",
            "[[0.]\n",
            " [6.]\n",
            " [5.]]\n"
          ]
        }
      ],
      "source": [
        "b = rvect(3)\n",
        "print('--------b--------')\n",
        "print(b)"
      ]
    },
    {
      "cell_type": "markdown",
      "metadata": {
        "id": "FiVq3nknEu3j"
      },
      "source": [
        "#### To graph the line Span(b) in the same figure as Col(A):\n",
        "- Copy the previous code that was used to graph Col(A)\n",
        "- Generate array r. `r = np.arange(-1, 1, 0.05)`\n",
        "- Plot the span(b). `ax.plot(r * b[0], r * b[1], r * b[2], 'b+', markersize=20)`\n",
        "- Note that the previous step should be before plt.show() to plot on the same figure.\n",
        "- Use `ax.view_init(45, 45)` change the values 45, 45 to rotate the figure to different view."
      ]
    },
    {
      "cell_type": "code",
      "execution_count": null,
      "metadata": {
        "id": "n0qowFovEu3k",
        "outputId": "ac879a02-0bb7-495e-bd9d-f71f9244a01a"
      },
      "outputs": [
        {
          "name": "stderr",
          "output_type": "stream",
          "text": [
            "C:\\Users\\yassm\\AppData\\Local\\Temp/ipykernel_10392/1631420241.py:2: MatplotlibDeprecationWarning: Calling gca() with keyword arguments was deprecated in Matplotlib 3.4. Starting two minor releases later, gca() will take no keyword arguments. The gca() function should only be used to get the current axes, or if no axes exist, create new axes with default keyword arguments. To create a new axes with non-default arguments, use plt.axes() or plt.subplot().\n",
            "  ax = fig.gca(projection='3d')\n"
          ]
        },
        {
          "data": {
            "image/png": "[encoded data removed]",
            "text/plain": [
              "<Figure size 432x288 with 2 Axes>"
            ]
          },
          "metadata": {
            "needs_background": "light"
          },
          "output_type": "display_data"
        }
      ],
      "source": [
        "fig = plt.figure()\n",
        "ax = fig.gca(projection='3d')\n",
        "\n",
        "ax.set_xlim3d(-15, 10)\n",
        "ax.set_ylim3d(-10, 10)\n",
        "ax.set_zlim3d(-15, 15)\n",
        "\n",
        "r = np.arange(-1,1,0.05)\n",
        "ax.plot(r * b[0], r * b[1], r * b[2], 'b+', markersize=20)\n",
        "\n",
        "box = ax.plot_surface(X, Y, Z, cmap=cm.hot,\n",
        "                       linewidth=0, antialiased=False)\n",
        "fig.colorbar(box, shrink=10, aspect=3)\n",
        "plt.show()"
      ]
    },
    {
      "cell_type": "markdown",
      "metadata": {
        "id": "4pZ7z4q-Eu3k"
      },
      "source": [
        "#### (c) Can you find a vector $x \\in R^2$ such that $Ax = b$, where $A$ is the matrix and $b$ is the vector that you have generated? Explain why or why not using the graph from part (b).\n"
      ]
    },
    {
      "cell_type": "markdown",
      "metadata": {
        "id": "Fp_4wpOsEu3k"
      },
      "source": [
        "### -------------------------------------Type your answer here------------------------------------------------------------ ###\n",
        "\n",
        "No, Because from graph b not in space of A \n",
        "\n",
        "\n",
        "### ---------------------------------------------------------------------------------------------------------------------------------- ###"
      ]
    },
    {
      "cell_type": "markdown",
      "metadata": {
        "id": "aS8DHP0GEu3k"
      },
      "source": [
        "#### (d) Generate a random vector lying in Col(A) where:\n",
        "\n",
        "- `z = np.random.rand(2, 1)`\n",
        "- `c = A @ z`"
      ]
    },
    {
      "cell_type": "code",
      "execution_count": null,
      "metadata": {
        "id": "FgCAN2IoEu3k",
        "outputId": "328a5acd-c22e-4be7-b226-5b953989fd68"
      },
      "outputs": [
        {
          "name": "stdout",
          "output_type": "stream",
          "text": [
            "[[0.96948872]\n",
            " [2.75075056]\n",
            " [3.93106834]]\n"
          ]
        }
      ],
      "source": [
        "z = np.random.rand(2, 1)\n",
        "c= A @ z\n",
        "print(c)"
      ]
    },
    {
      "cell_type": "markdown",
      "metadata": {
        "id": "LuSjJKfIEu3l"
      },
      "source": [
        "#### Plot a new graph of Span(c) and Col(A)"
      ]
    },
    {
      "cell_type": "code",
      "execution_count": null,
      "metadata": {
        "id": "Qqlh7-G3Eu3l",
        "outputId": "e05f4f1f-5f15-4d11-e852-340ed948dd41"
      },
      "outputs": [
        {
          "name": "stderr",
          "output_type": "stream",
          "text": [
            "C:\\Users\\yassm\\AppData\\Local\\Temp/ipykernel_10392/3517034616.py:3: MatplotlibDeprecationWarning: Calling gca() with keyword arguments was deprecated in Matplotlib 3.4. Starting two minor releases later, gca() will take no keyword arguments. The gca() function should only be used to get the current axes, or if no axes exist, create new axes with default keyword arguments. To create a new axes with non-default arguments, use plt.axes() or plt.subplot().\n",
            "  ax = fig.gca(projection='3d')\n"
          ]
        },
        {
          "data": {
            "image/png": "[encoded data removed]",
            "text/plain": [
              "<Figure size 432x288 with 2 Axes>"
            ]
          },
          "metadata": {
            "needs_background": "light"
          },
          "output_type": "display_data"
        }
      ],
      "source": [
        "#type your code here\n",
        "fig = plt.figure()\n",
        "ax = fig.gca(projection='3d')\n",
        "\n",
        "ax.set_xlim3d(-15, 10)\n",
        "ax.set_ylim3d(-10, 10)\n",
        "ax.set_zlim3d(-15, 15)\n",
        "\n",
        "r = np.arange(-1,1,0.05)\n",
        "ax.plot(r * c[0], r * c[1], r * c[2], 'b+', markersize=20)\n",
        "\n",
        "box = ax.plot_surface(X, Y, Z, cmap=cm.hot,\n",
        "                       linewidth=0, antialiased=False)\n",
        "fig.colorbar(box, shrink=10, aspect=3)\n",
        "plt.show()\n"
      ]
    },
    {
      "cell_type": "markdown",
      "metadata": {
        "id": "BNIRYBDdEu3l"
      },
      "source": [
        "# Question 4: Reduced Row Echelon Form and Null Space"
      ]
    },
    {
      "cell_type": "markdown",
      "metadata": {
        "id": "9wETQHO5Eu3l"
      },
      "source": [
        "#### First generate a random $3 \\times 3$ integer matrix $B$ and check its rank:\n",
        "- `B = rmat(3, 3)`\n",
        "- `np.linalg.matrix_rank(B)`"
      ]
    },
    {
      "cell_type": "code",
      "execution_count": null,
      "metadata": {
        "id": "gqDMUFv2Eu3l",
        "outputId": "fe577adf-1126-4735-c5a9-b4097ff35560"
      },
      "outputs": [
        {
          "name": "stdout",
          "output_type": "stream",
          "text": [
            "--------B-------\n",
            "[[5. 1. 7.]\n",
            " [7. 7. 8.]\n",
            " [1. 6. 3.]]\n",
            "-----Rank(B)--------\n",
            "3\n"
          ]
        }
      ],
      "source": [
        "B = rmat(3, 3)\n",
        "print('--------B-------')\n",
        "print(B)\n",
        "print('-----Rank(B)--------')\n",
        "print(np.linalg.matrix_rank(B))"
      ]
    },
    {
      "cell_type": "markdown",
      "metadata": {
        "id": "S9fqkl6oEu3l"
      },
      "source": [
        "#### Since $B$ is random, it is very likely to have rank $3$. If not, generate another $B$ until this is true. Now use $B$ to define a $3 \\times 5$ matrix $A$ and its reduced row echelon form $R$ by\n",
        "\n",
        "- `A = np.block([B[:, [0]], B[:, [1]], 2 * B[:, [0]] + 3 * B[:, [1]], 4 * B[:, [0]] - 5 * B[:, [1]], B[:, [2]]])`\n",
        "- `R = rref(A)`\n",
        "\n",
        "#### (a) Use the definition of $A$ in terms of $B$ and the Column Correspondence Property to answer the following.\n",
        "\n",
        "- Explain why columns #1, #2, and #5 are the pivot columns of A and R.\n",
        "- Explain why column #3 of R is the vector $\\begin{bmatrix} 2 \\\\ 3 \\\\ 0   \\end{bmatrix}$ and column #4 of R is the vector $\\begin{bmatrix} 4 \\\\ -5 \\\\ 0   \\end{bmatrix}$ "
      ]
    },
    {
      "cell_type": "markdown",
      "metadata": {
        "id": "1JUtiJyPEu3l"
      },
      "source": [
        "### -------------------------------------Type your answer here------------------------------------------------------------ ###\n",
        "\n",
        "1.  Col 1 and 2 and 5 are pivots cols because they are leading 1 in rref form and they are the first non zero in each row\n",
        "    and  these columns are indepaned\n",
        "    \n",
        "2.  because coulmns 3,4 are depaned on coulmn 1,2\n",
        "\n",
        "\n",
        "\n",
        "### ---------------------------------------------------------------------------------------------------------------------------------- ###"
      ]
    },
    {
      "cell_type": "code",
      "execution_count": null,
      "metadata": {
        "id": "lCNg1KddEu3l",
        "outputId": "33ec38e6-5392-4131-828f-2c91713a7d4a"
      },
      "outputs": [
        {
          "name": "stdout",
          "output_type": "stream",
          "text": [
            "-----A--------\n",
            "[[  5.   1.  13.  15.   7.]\n",
            " [  7.   7.  35.  -7.   8.]\n",
            " [  1.   6.  20. -26.   3.]]\n",
            "-----R--------\n",
            "[[ 1.  0.  2.  4.  0.]\n",
            " [ 0.  1.  3. -5.  0.]\n",
            " [ 0.  0.  0.  0.  1.]]\n"
          ]
        }
      ],
      "source": [
        "A = np.block([B[:, [0]], B[:, [1]], 2 * B[:, [0]] + 3 * B[:, [1]], 4 * B[:, [0]] - 5 * B[:, [1]], B[:, [2]]])\n",
        "print('-----A--------')\n",
        "print(A)\n",
        "\n",
        "R = rref(A)\n",
        "print('-----R--------')\n",
        "print(R)\n"
      ]
    },
    {
      "cell_type": "markdown",
      "metadata": {
        "id": "ZNWbEqPsEu3m"
      },
      "source": [
        "#### (b) Let $V$ be the set of solutions to the homogeneous system of equations $Ax = 0$ (the null space of $A$). In the equation $Ax = 0$ (where $x \\in R^5$), \n",
        "\n",
        "- what are the free variables and what is dim V ?"
      ]
    },
    {
      "cell_type": "markdown",
      "metadata": {
        "id": "87yEGZdfEu3m"
      },
      "source": [
        "### -------------------------------------Type your answer here------------------------------------------------------------ ###\n",
        "\n",
        "free variable 2 [x3,x4] \n",
        "\n",
        "dim V = 2 vector (each vector is 5x1 )\n",
        "\n",
        "\n",
        "\n",
        "### ---------------------------------------------------------------------------------------------------------------------------------- ###"
      ]
    },
    {
      "cell_type": "markdown",
      "metadata": {
        "id": "Gy7WGPRuEu3m"
      },
      "source": [
        "#### (c) Use the python function that was defined in the first cell `nulbasis` to calculate the special solutions to the system of equations $Ax = 0$:\n",
        "\n",
        "- `N = nulbasis(A)`\n",
        "\n",
        "#### The columns of $N$ are the solutions to $Ax = 0$ obtained by setting one free variable to 1 and all the other free variables to 0. Define:\n",
        "- `v1 = N[:,[0]]`\n",
        "- `v2 = N[:,[1]]`\n",
        "\n",
        "(Notice that `v1` and `v2` are 5-component vectors, not scalars.)\n",
        "\n",
        "1. Which component of v1 is 1 and which components of v1 are zero?\n",
        "\n",
        "2. Which component of v2 is 1 and which components of v2 are zero?\n",
        "\n",
        "3. Check by python that v1 and v2 are in null space of A."
      ]
    },
    {
      "cell_type": "markdown",
      "metadata": {
        "id": "Z9twjEgxEu3m"
      },
      "source": [
        "### -------------------------------------Type your answer here------------------------------------------------------------ ###\n",
        "\n",
        "1. 1 for x3 0 for x4,x5\n",
        "2. 1 for x4 0 for x3,x5\n",
        "\n",
        "### ---------------------------------------------------------------------------------------------------------------------------------- ###"
      ]
    },
    {
      "cell_type": "code",
      "execution_count": null,
      "metadata": {
        "id": "IMZdEzAuEu3m",
        "outputId": "2c73edbe-fae2-47df-9eec-5880d497cac5"
      },
      "outputs": [
        {
          "name": "stdout",
          "output_type": "stream",
          "text": [
            "-------------N--------------\n",
            "[[-2. -4.]\n",
            " [-3.  5.]\n",
            " [ 1.  0.]\n",
            " [ 0.  1.]\n",
            " [ 0.  0.]]\n",
            "----------------------------\n",
            "-------------v1--------------\n",
            "[[-2.]\n",
            " [-3.]\n",
            " [ 1.]\n",
            " [ 0.]\n",
            " [ 0.]]\n",
            "----------------------------\n",
            "-------------v2--------------\n",
            "[[-4.]\n",
            " [ 5.]\n",
            " [ 0.]\n",
            " [ 1.]\n",
            " [ 0.]]\n",
            "----------------------------\n",
            "-------------A @ v1--------------\n",
            "[[0.]\n",
            " [0.]\n",
            " [0.]]\n",
            "----------------------------\n",
            "-------------A @ v2--------------\n",
            "[[0.]\n",
            " [0.]\n",
            " [0.]]\n",
            "----------------------------\n"
          ]
        }
      ],
      "source": [
        "#type your code here:\n",
        "N  = nulbasis(A)\n",
        "V1 = N[:,[0]]\n",
        "V2 = N[:,[1]]\n",
        "\n",
        "print(f\"-------------N--------------\\n{N}\\n----------------------------\")\n",
        "print(f\"-------------v1--------------\\n{V1}\\n----------------------------\")\n",
        "print(f\"-------------v2--------------\\n{V2}\\n----------------------------\")\n",
        "print(f\"-------------A @ v1--------------\\n{A @ V1}\\n----------------------------\")\n",
        "print(f\"-------------A @ v2--------------\\n{A @ V2}\\n----------------------------\")\n"
      ]
    },
    {
      "cell_type": "markdown",
      "metadata": {
        "id": "HvhVZih5Eu3m"
      },
      "source": [
        "#### (d) Now generate a random linear combination `x` of the vectors `v1` and `v2`:\n",
        "- `s = np.random.rand(1)` \n",
        "- `t = np.random.rand(1)` \n",
        "- `x = s * v1 + t * v2`\n",
        "\n",
        "(Note that each occurrence of rand(1) generates a different random coefficient).\n",
        "\n",
        "- Explain (without python) why $x$ satisfies $Ax = 0$ and $Rx = 0$. Then confirm this by python"
      ]
    },
    {
      "cell_type": "markdown",
      "metadata": {
        "id": "TBWJJHBfEu3m"
      },
      "source": [
        "### -------------------------------------Type your answer here------------------------------------------------------------ ###\n",
        "if v1 an v2 belonge to null space so its linear compaintion belonge to null space then Ax=0\n",
        "\n",
        "\n",
        "\n",
        "\n",
        "### ---------------------------------------------------------------------------------------------------------------------------------- ###"
      ]
    },
    {
      "cell_type": "code",
      "execution_count": null,
      "metadata": {
        "id": "Cak78BdLEu3m",
        "outputId": "c644ca43-4c24-4337-b31b-32fea00801dd"
      },
      "outputs": [
        {
          "name": "stdout",
          "output_type": "stream",
          "text": [
            "-------------A @ x--------------\n",
            "[[-1.77635684e-15]\n",
            " [ 3.55271368e-15]\n",
            " [ 1.77635684e-15]]\n",
            "--------------------------------\n",
            "-------------R @ x--------------\n",
            "[[4.4408921e-16]\n",
            " [0.0000000e+00]\n",
            " [0.0000000e+00]]\n",
            "--------------------------------\n"
          ]
        }
      ],
      "source": [
        "#type your code here:\n",
        "s = np.random.rand(1)\n",
        "t = np.random.rand(1)\n",
        "x = s * V1 + t * V2\n",
        "print(f\"-------------A @ x--------------\\n{A @ x}\\n--------------------------------\")\n",
        "print(f\"-------------R @ x--------------\\n{R @ x}\\n--------------------------------\")\n"
      ]
    },
    {
      "cell_type": "code",
      "execution_count": null,
      "metadata": {
        "id": "QwsyMMxnEu3n"
      },
      "outputs": [],
      "source": [
        ""
      ]
    }
  ],
  "metadata": {
    "kernelspec": {
      "display_name": "Python 3 (ipykernel)",
      "language": "python",
      "name": "python3"
    },
    "language_info": {
      "codemirror_mode": {
        "name": "ipython",
        "version": 3
      },
      "file_extension": ".py",
      "mimetype": "text/x-python",
      "name": "python",
      "nbconvert_exporter": "python",
      "pygments_lexer": "ipython3",
      "version": "3.9.7"
    },
    "colab": {
      "name": "LA_ITI_PRO_Student_Lab_2.ipynb",
      "provenance": [],
      "include_colab_link": true
    }
  },
  "nbformat": 4,
  "nbformat_minor": 0
}